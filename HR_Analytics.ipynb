{
 "cells": [
  {
   "cell_type": "code",
   "execution_count": null,
   "metadata": {},
   "outputs": [],
   "source": [
    "# HR analytics : Job Change of Data Scientist"
   ]
  },
  {
   "cell_type": "code",
   "execution_count": 1,
   "metadata": {},
   "outputs": [],
   "source": [
    "import numpy as np\n",
    "import pandas as pd\n",
    "import matplotlib.pyplot as plt\n",
    "import seaborn as sns"
   ]
  },
  {
   "cell_type": "code",
   "execution_count": 2,
   "metadata": {},
   "outputs": [],
   "source": [
    "df = pd.read_csv('aug_train.csv')"
   ]
  },
  {
   "cell_type": "code",
   "execution_count": 3,
   "metadata": {},
   "outputs": [
    {
     "data": {
      "text/html": [
       "<div>\n",
       "<style scoped>\n",
       "    .dataframe tbody tr th:only-of-type {\n",
       "        vertical-align: middle;\n",
       "    }\n",
       "\n",
       "    .dataframe tbody tr th {\n",
       "        vertical-align: top;\n",
       "    }\n",
       "\n",
       "    .dataframe thead th {\n",
       "        text-align: right;\n",
       "    }\n",
       "</style>\n",
       "<table border=\"1\" class=\"dataframe\">\n",
       "  <thead>\n",
       "    <tr style=\"text-align: right;\">\n",
       "      <th></th>\n",
       "      <th>enrollee_id</th>\n",
       "      <th>city</th>\n",
       "      <th>city_development_index</th>\n",
       "      <th>gender</th>\n",
       "      <th>relevent_experience</th>\n",
       "      <th>enrolled_university</th>\n",
       "      <th>education_level</th>\n",
       "      <th>major_discipline</th>\n",
       "      <th>experience</th>\n",
       "      <th>company_size</th>\n",
       "      <th>company_type</th>\n",
       "      <th>last_new_job</th>\n",
       "      <th>training_hours</th>\n",
       "      <th>target</th>\n",
       "    </tr>\n",
       "  </thead>\n",
       "  <tbody>\n",
       "    <tr>\n",
       "      <th>0</th>\n",
       "      <td>8949</td>\n",
       "      <td>city_103</td>\n",
       "      <td>0.920</td>\n",
       "      <td>Male</td>\n",
       "      <td>Has relevent experience</td>\n",
       "      <td>no_enrollment</td>\n",
       "      <td>Graduate</td>\n",
       "      <td>STEM</td>\n",
       "      <td>&gt;20</td>\n",
       "      <td>NaN</td>\n",
       "      <td>NaN</td>\n",
       "      <td>1</td>\n",
       "      <td>36</td>\n",
       "      <td>1.0</td>\n",
       "    </tr>\n",
       "    <tr>\n",
       "      <th>1</th>\n",
       "      <td>29725</td>\n",
       "      <td>city_40</td>\n",
       "      <td>0.776</td>\n",
       "      <td>Male</td>\n",
       "      <td>No relevent experience</td>\n",
       "      <td>no_enrollment</td>\n",
       "      <td>Graduate</td>\n",
       "      <td>STEM</td>\n",
       "      <td>15</td>\n",
       "      <td>50-99</td>\n",
       "      <td>Pvt Ltd</td>\n",
       "      <td>&gt;4</td>\n",
       "      <td>47</td>\n",
       "      <td>0.0</td>\n",
       "    </tr>\n",
       "    <tr>\n",
       "      <th>2</th>\n",
       "      <td>11561</td>\n",
       "      <td>city_21</td>\n",
       "      <td>0.624</td>\n",
       "      <td>NaN</td>\n",
       "      <td>No relevent experience</td>\n",
       "      <td>Full time course</td>\n",
       "      <td>Graduate</td>\n",
       "      <td>STEM</td>\n",
       "      <td>5</td>\n",
       "      <td>NaN</td>\n",
       "      <td>NaN</td>\n",
       "      <td>never</td>\n",
       "      <td>83</td>\n",
       "      <td>0.0</td>\n",
       "    </tr>\n",
       "  </tbody>\n",
       "</table>\n",
       "</div>"
      ],
      "text/plain": [
       "   enrollee_id      city  city_development_index gender  \\\n",
       "0         8949  city_103                   0.920   Male   \n",
       "1        29725   city_40                   0.776   Male   \n",
       "2        11561   city_21                   0.624    NaN   \n",
       "\n",
       "       relevent_experience enrolled_university education_level  \\\n",
       "0  Has relevent experience       no_enrollment        Graduate   \n",
       "1   No relevent experience       no_enrollment        Graduate   \n",
       "2   No relevent experience    Full time course        Graduate   \n",
       "\n",
       "  major_discipline experience company_size company_type last_new_job  \\\n",
       "0             STEM        >20          NaN          NaN            1   \n",
       "1             STEM         15        50-99      Pvt Ltd           >4   \n",
       "2             STEM          5          NaN          NaN        never   \n",
       "\n",
       "   training_hours  target  \n",
       "0              36     1.0  \n",
       "1              47     0.0  \n",
       "2              83     0.0  "
      ]
     },
     "execution_count": 3,
     "metadata": {},
     "output_type": "execute_result"
    }
   ],
   "source": [
    "df.head(3)"
   ]
  },
  {
   "cell_type": "code",
   "execution_count": 4,
   "metadata": {},
   "outputs": [
    {
     "data": {
      "text/plain": [
       "(19158, 14)"
      ]
     },
     "execution_count": 4,
     "metadata": {},
     "output_type": "execute_result"
    }
   ],
   "source": [
    "df.shape"
   ]
  },
  {
   "cell_type": "code",
   "execution_count": 5,
   "metadata": {},
   "outputs": [
    {
     "name": "stdout",
     "output_type": "stream",
     "text": [
      "<class 'pandas.core.frame.DataFrame'>\n",
      "RangeIndex: 19158 entries, 0 to 19157\n",
      "Data columns (total 14 columns):\n",
      " #   Column                  Non-Null Count  Dtype  \n",
      "---  ------                  --------------  -----  \n",
      " 0   enrollee_id             19158 non-null  int64  \n",
      " 1   city                    19158 non-null  object \n",
      " 2   city_development_index  19158 non-null  float64\n",
      " 3   gender                  14650 non-null  object \n",
      " 4   relevent_experience     19158 non-null  object \n",
      " 5   enrolled_university     18772 non-null  object \n",
      " 6   education_level         18698 non-null  object \n",
      " 7   major_discipline        16345 non-null  object \n",
      " 8   experience              19093 non-null  object \n",
      " 9   company_size            13220 non-null  object \n",
      " 10  company_type            13018 non-null  object \n",
      " 11  last_new_job            18735 non-null  object \n",
      " 12  training_hours          19158 non-null  int64  \n",
      " 13  target                  19158 non-null  float64\n",
      "dtypes: float64(2), int64(2), object(10)\n",
      "memory usage: 2.0+ MB\n"
     ]
    }
   ],
   "source": [
    "df.info()"
   ]
  },
  {
   "cell_type": "code",
   "execution_count": 6,
   "metadata": {},
   "outputs": [
    {
     "data": {
      "text/html": [
       "<div>\n",
       "<style scoped>\n",
       "    .dataframe tbody tr th:only-of-type {\n",
       "        vertical-align: middle;\n",
       "    }\n",
       "\n",
       "    .dataframe tbody tr th {\n",
       "        vertical-align: top;\n",
       "    }\n",
       "\n",
       "    .dataframe thead th {\n",
       "        text-align: right;\n",
       "    }\n",
       "</style>\n",
       "<table border=\"1\" class=\"dataframe\">\n",
       "  <thead>\n",
       "    <tr style=\"text-align: right;\">\n",
       "      <th></th>\n",
       "      <th>enrollee_id</th>\n",
       "      <th>city_development_index</th>\n",
       "      <th>training_hours</th>\n",
       "      <th>target</th>\n",
       "    </tr>\n",
       "  </thead>\n",
       "  <tbody>\n",
       "    <tr>\n",
       "      <th>count</th>\n",
       "      <td>19158.000000</td>\n",
       "      <td>19158.000000</td>\n",
       "      <td>19158.000000</td>\n",
       "      <td>19158.000000</td>\n",
       "    </tr>\n",
       "    <tr>\n",
       "      <th>mean</th>\n",
       "      <td>16875.358179</td>\n",
       "      <td>0.828848</td>\n",
       "      <td>65.366896</td>\n",
       "      <td>0.249348</td>\n",
       "    </tr>\n",
       "    <tr>\n",
       "      <th>std</th>\n",
       "      <td>9616.292592</td>\n",
       "      <td>0.123362</td>\n",
       "      <td>60.058462</td>\n",
       "      <td>0.432647</td>\n",
       "    </tr>\n",
       "    <tr>\n",
       "      <th>min</th>\n",
       "      <td>1.000000</td>\n",
       "      <td>0.448000</td>\n",
       "      <td>1.000000</td>\n",
       "      <td>0.000000</td>\n",
       "    </tr>\n",
       "    <tr>\n",
       "      <th>25%</th>\n",
       "      <td>8554.250000</td>\n",
       "      <td>0.740000</td>\n",
       "      <td>23.000000</td>\n",
       "      <td>0.000000</td>\n",
       "    </tr>\n",
       "    <tr>\n",
       "      <th>50%</th>\n",
       "      <td>16982.500000</td>\n",
       "      <td>0.903000</td>\n",
       "      <td>47.000000</td>\n",
       "      <td>0.000000</td>\n",
       "    </tr>\n",
       "    <tr>\n",
       "      <th>75%</th>\n",
       "      <td>25169.750000</td>\n",
       "      <td>0.920000</td>\n",
       "      <td>88.000000</td>\n",
       "      <td>0.000000</td>\n",
       "    </tr>\n",
       "    <tr>\n",
       "      <th>max</th>\n",
       "      <td>33380.000000</td>\n",
       "      <td>0.949000</td>\n",
       "      <td>336.000000</td>\n",
       "      <td>1.000000</td>\n",
       "    </tr>\n",
       "  </tbody>\n",
       "</table>\n",
       "</div>"
      ],
      "text/plain": [
       "        enrollee_id  city_development_index  training_hours        target\n",
       "count  19158.000000            19158.000000    19158.000000  19158.000000\n",
       "mean   16875.358179                0.828848       65.366896      0.249348\n",
       "std     9616.292592                0.123362       60.058462      0.432647\n",
       "min        1.000000                0.448000        1.000000      0.000000\n",
       "25%     8554.250000                0.740000       23.000000      0.000000\n",
       "50%    16982.500000                0.903000       47.000000      0.000000\n",
       "75%    25169.750000                0.920000       88.000000      0.000000\n",
       "max    33380.000000                0.949000      336.000000      1.000000"
      ]
     },
     "execution_count": 6,
     "metadata": {},
     "output_type": "execute_result"
    }
   ],
   "source": [
    "df.describe()"
   ]
  },
  {
   "cell_type": "markdown",
   "metadata": {},
   "source": [
    "# PERFORMING EXPLORATORY DATA ANALYSIS(EDA)"
   ]
  },
  {
   "cell_type": "code",
   "execution_count": null,
   "metadata": {},
   "outputs": [],
   "source": [
    "# steps of EDA\n",
    "    # missing values               \n",
    "    # outlier treatment             \n",
    "    # label encoding                \n",
    "    # feature scaling               \n",
    "    # handling imbalance dataset "
   ]
  },
  {
   "cell_type": "markdown",
   "metadata": {},
   "source": [
    "# MISSING VALUES"
   ]
  },
  {
   "cell_type": "code",
   "execution_count": 7,
   "metadata": {
    "scrolled": true
   },
   "outputs": [
    {
     "data": {
      "text/plain": [
       "enrollee_id                  0\n",
       "city                         0\n",
       "city_development_index       0\n",
       "gender                    4508\n",
       "relevent_experience          0\n",
       "enrolled_university        386\n",
       "education_level            460\n",
       "major_discipline          2813\n",
       "experience                  65\n",
       "company_size              5938\n",
       "company_type              6140\n",
       "last_new_job               423\n",
       "training_hours               0\n",
       "target                       0\n",
       "dtype: int64"
      ]
     },
     "execution_count": 7,
     "metadata": {},
     "output_type": "execute_result"
    }
   ],
   "source": [
    "df.isna().sum()"
   ]
  },
  {
   "cell_type": "code",
   "execution_count": null,
   "metadata": {},
   "outputs": [],
   "source": [
    "\"\"\"\n",
    "            missing data\n",
    "4508/19158    23.53%      gender\n",
    "386/19158       2%        enrolled_university\n",
    "460/19158      2.4%       education_level\n",
    "2813/19158    14.68%      major_discipline\n",
    "65/19158       0.3%       experience\n",
    "5938/19158    30.99%      company_size\n",
    "6140/19158     32%        company_type\n",
    "423/19158      2.2%       last_new_job\n",
    "\n",
    "----> company_size and company_type has more than 25% of missing data\n",
    "\n",
    "\"\"\""
   ]
  },
  {
   "cell_type": "code",
   "execution_count": 8,
   "metadata": {},
   "outputs": [],
   "source": [
    "# column enrollee_id, city, company_size, company_type is removed from the dataset\n",
    "\n",
    "df.drop(df.columns[[0, 1, 9, 10]], axis = 1, inplace = True)"
   ]
  },
  {
   "cell_type": "code",
   "execution_count": 9,
   "metadata": {},
   "outputs": [
    {
     "name": "stdout",
     "output_type": "stream",
     "text": [
      "<class 'pandas.core.frame.DataFrame'>\n",
      "RangeIndex: 19158 entries, 0 to 19157\n",
      "Data columns (total 10 columns):\n",
      " #   Column                  Non-Null Count  Dtype  \n",
      "---  ------                  --------------  -----  \n",
      " 0   city_development_index  19158 non-null  float64\n",
      " 1   gender                  14650 non-null  object \n",
      " 2   relevent_experience     19158 non-null  object \n",
      " 3   enrolled_university     18772 non-null  object \n",
      " 4   education_level         18698 non-null  object \n",
      " 5   major_discipline        16345 non-null  object \n",
      " 6   experience              19093 non-null  object \n",
      " 7   last_new_job            18735 non-null  object \n",
      " 8   training_hours          19158 non-null  int64  \n",
      " 9   target                  19158 non-null  float64\n",
      "dtypes: float64(2), int64(1), object(7)\n",
      "memory usage: 1.5+ MB\n"
     ]
    }
   ],
   "source": [
    "df.info()"
   ]
  },
  {
   "cell_type": "code",
   "execution_count": 10,
   "metadata": {},
   "outputs": [
    {
     "name": "stdout",
     "output_type": "stream",
     "text": [
      "['Male' nan 'Female' 'Other']\n",
      "####################################\n",
      "Male      13221\n",
      "Female     1238\n",
      "Other       191\n",
      "Name: gender, dtype: int64\n",
      "####################################\n",
      "Gender missing values : 4508\n"
     ]
    }
   ],
   "source": [
    "print(df.gender.unique())\n",
    "print(\"####################################\")\n",
    "print(df.gender.value_counts())\n",
    "print(\"####################################\")\n",
    "print(\"Gender missing values :\",df.gender.isna().sum())"
   ]
  },
  {
   "cell_type": "code",
   "execution_count": 10,
   "metadata": {},
   "outputs": [
    {
     "data": {
      "text/plain": [
       "0    Male\n",
       "dtype: object"
      ]
     },
     "execution_count": 10,
     "metadata": {},
     "output_type": "execute_result"
    }
   ],
   "source": [
    "df.gender.mode()"
   ]
  },
  {
   "cell_type": "code",
   "execution_count": 11,
   "metadata": {},
   "outputs": [],
   "source": [
    "df['gender'].fillna(\"Male\",inplace = True)"
   ]
  },
  {
   "cell_type": "code",
   "execution_count": 12,
   "metadata": {},
   "outputs": [
    {
     "name": "stdout",
     "output_type": "stream",
     "text": [
      "['Male' 'Female' 'Other']\n",
      "####################################\n",
      "Male      17729\n",
      "Female     1238\n",
      "Other       191\n",
      "Name: gender, dtype: int64\n",
      "####################################\n",
      "Gender missing values : 0\n"
     ]
    }
   ],
   "source": [
    "print(df.gender.unique())\n",
    "print(\"####################################\")\n",
    "print(df.gender.value_counts())\n",
    "print(\"####################################\")\n",
    "print(\"Gender missing values :\",df.gender.isna().sum())"
   ]
  },
  {
   "cell_type": "code",
   "execution_count": 13,
   "metadata": {},
   "outputs": [
    {
     "name": "stdout",
     "output_type": "stream",
     "text": [
      "['no_enrollment' 'Full time course' nan 'Part time course']\n",
      "####################################\n",
      "no_enrollment       13817\n",
      "Full time course     3757\n",
      "Part time course     1198\n",
      "Name: enrolled_university, dtype: int64\n",
      "####################################\n",
      "Gender missing values : 386\n"
     ]
    }
   ],
   "source": [
    "print(df.enrolled_university.unique())\n",
    "print(\"####################################\")\n",
    "print(df.enrolled_university.value_counts())\n",
    "print(\"####################################\")\n",
    "print(\"enrolled_university missing values :\",df.enrolled_university.isna().sum())"
   ]
  },
  {
   "cell_type": "code",
   "execution_count": 14,
   "metadata": {},
   "outputs": [],
   "source": [
    "df['enrolled_university'].fillna(\"no_enrollment\",inplace = True)"
   ]
  },
  {
   "cell_type": "code",
   "execution_count": 15,
   "metadata": {},
   "outputs": [
    {
     "name": "stdout",
     "output_type": "stream",
     "text": [
      "['no_enrollment' 'Full time course' 'Part time course']\n",
      "####################################\n",
      "no_enrollment       14203\n",
      "Full time course     3757\n",
      "Part time course     1198\n",
      "Name: enrolled_university, dtype: int64\n",
      "####################################\n",
      "Gender missing values : 0\n"
     ]
    }
   ],
   "source": [
    "print(df.enrolled_university.unique())\n",
    "print(\"####################################\")\n",
    "print(df.enrolled_university.value_counts())\n",
    "print(\"####################################\")\n",
    "print(\"enrolled_university missing values :\",df.enrolled_university.isna().sum())"
   ]
  },
  {
   "cell_type": "code",
   "execution_count": 16,
   "metadata": {},
   "outputs": [
    {
     "name": "stdout",
     "output_type": "stream",
     "text": [
      "['Graduate' 'Masters' 'High School' nan 'Phd' 'Primary School']\n",
      "####################################\n",
      "Graduate          11598\n",
      "Masters            4361\n",
      "High School        2017\n",
      "Phd                 414\n",
      "Primary School      308\n",
      "Name: education_level, dtype: int64\n",
      "####################################\n",
      "Gender missing values : 460\n"
     ]
    }
   ],
   "source": [
    "print(df.education_level.unique())\n",
    "print(\"####################################\")\n",
    "print(df.education_level.value_counts())\n",
    "print(\"####################################\")\n",
    "print(\"education_level missing values :\",df.education_level.isna().sum())"
   ]
  },
  {
   "cell_type": "code",
   "execution_count": 17,
   "metadata": {},
   "outputs": [],
   "source": [
    "df['education_level'].fillna(\"Graduate\",inplace = True)"
   ]
  },
  {
   "cell_type": "code",
   "execution_count": 18,
   "metadata": {},
   "outputs": [
    {
     "name": "stdout",
     "output_type": "stream",
     "text": [
      "['Graduate' 'Masters' 'High School' 'Phd' 'Primary School']\n",
      "####################################\n",
      "Graduate          12058\n",
      "Masters            4361\n",
      "High School        2017\n",
      "Phd                 414\n",
      "Primary School      308\n",
      "Name: education_level, dtype: int64\n",
      "####################################\n",
      "Gender missing values : 0\n"
     ]
    }
   ],
   "source": [
    "print(df.education_level.unique())\n",
    "print(\"####################################\")\n",
    "print(df.education_level.value_counts())\n",
    "print(\"####################################\")\n",
    "print(\"education_level missing values :\",df.education_level.isna().sum())"
   ]
  },
  {
   "cell_type": "code",
   "execution_count": 19,
   "metadata": {},
   "outputs": [
    {
     "name": "stdout",
     "output_type": "stream",
     "text": [
      "['STEM' 'Business Degree' nan 'Arts' 'Humanities' 'No Major' 'Other']\n",
      "####################################\n",
      "STEM               14492\n",
      "Humanities           669\n",
      "Other                381\n",
      "Business Degree      327\n",
      "Arts                 253\n",
      "No Major             223\n",
      "Name: major_discipline, dtype: int64\n",
      "####################################\n",
      "Gender missing values : 2813\n"
     ]
    }
   ],
   "source": [
    "print(df.major_discipline.unique())\n",
    "print(\"####################################\")\n",
    "print(df.major_discipline.value_counts())\n",
    "print(\"####################################\")\n",
    "print(\"major_discipline missing values :\",df.major_discipline.isna().sum())"
   ]
  },
  {
   "cell_type": "code",
   "execution_count": 20,
   "metadata": {},
   "outputs": [],
   "source": [
    "df['major_discipline'].fillna(\"STEM\",inplace = True)"
   ]
  },
  {
   "cell_type": "code",
   "execution_count": 21,
   "metadata": {},
   "outputs": [
    {
     "name": "stdout",
     "output_type": "stream",
     "text": [
      "['STEM' 'Business Degree' 'Arts' 'Humanities' 'No Major' 'Other']\n",
      "####################################\n",
      "STEM               17305\n",
      "Humanities           669\n",
      "Other                381\n",
      "Business Degree      327\n",
      "Arts                 253\n",
      "No Major             223\n",
      "Name: major_discipline, dtype: int64\n",
      "####################################\n",
      "Gender missing values : 0\n"
     ]
    }
   ],
   "source": [
    "print(df.major_discipline.unique())\n",
    "print(\"####################################\")\n",
    "print(df.major_discipline.value_counts())\n",
    "print(\"####################################\")\n",
    "print(\"major_discipline missing values :\",df.major_discipline.isna().sum())"
   ]
  },
  {
   "cell_type": "code",
   "execution_count": 22,
   "metadata": {},
   "outputs": [
    {
     "name": "stdout",
     "output_type": "stream",
     "text": [
      "['>20' '15' '5' '<1' '11' '13' '7' '17' '2' '16' '1' '4' '10' '14' '18'\n",
      " '19' '12' '3' '6' '9' '8' '20' nan]\n",
      "####################################\n",
      ">20    3286\n",
      "5      1430\n",
      "4      1403\n",
      "3      1354\n",
      "6      1216\n",
      "2      1127\n",
      "7      1028\n",
      "10      985\n",
      "9       980\n",
      "8       802\n",
      "15      686\n",
      "11      664\n",
      "14      586\n",
      "1       549\n",
      "<1      522\n",
      "16      508\n",
      "12      494\n",
      "13      399\n",
      "17      342\n",
      "19      304\n",
      "18      280\n",
      "20      148\n",
      "Name: experience, dtype: int64\n",
      "####################################\n",
      "Gender missing values : 65\n"
     ]
    }
   ],
   "source": [
    "print(df.experience.unique())\n",
    "print(\"####################################\")\n",
    "print(df.experience.value_counts())\n",
    "print(\"####################################\")\n",
    "print(\"experience missing values :\",df.experience.isna().sum())"
   ]
  },
  {
   "cell_type": "code",
   "execution_count": 23,
   "metadata": {},
   "outputs": [],
   "source": [
    "df['experience'].fillna(\">20\",inplace = True)"
   ]
  },
  {
   "cell_type": "code",
   "execution_count": 24,
   "metadata": {},
   "outputs": [
    {
     "name": "stdout",
     "output_type": "stream",
     "text": [
      "['>20' '15' '5' '<1' '11' '13' '7' '17' '2' '16' '1' '4' '10' '14' '18'\n",
      " '19' '12' '3' '6' '9' '8' '20']\n",
      "####################################\n",
      ">20    3351\n",
      "5      1430\n",
      "4      1403\n",
      "3      1354\n",
      "6      1216\n",
      "2      1127\n",
      "7      1028\n",
      "10      985\n",
      "9       980\n",
      "8       802\n",
      "15      686\n",
      "11      664\n",
      "14      586\n",
      "1       549\n",
      "<1      522\n",
      "16      508\n",
      "12      494\n",
      "13      399\n",
      "17      342\n",
      "19      304\n",
      "18      280\n",
      "20      148\n",
      "Name: experience, dtype: int64\n",
      "####################################\n",
      "Gender missing values : 0\n"
     ]
    }
   ],
   "source": [
    "print(df.experience.unique())\n",
    "print(\"####################################\")\n",
    "print(df.experience.value_counts())\n",
    "print(\"####################################\")\n",
    "print(\"experience missing values :\",df.experience.isna().sum())"
   ]
  },
  {
   "cell_type": "code",
   "execution_count": 27,
   "metadata": {},
   "outputs": [
    {
     "name": "stdout",
     "output_type": "stream",
     "text": [
      "['1' '>4' 'never' '4' '3' '2']\n",
      "####################################\n",
      "1        8463\n",
      ">4       3290\n",
      "2        2900\n",
      "never    2452\n",
      "4        1029\n",
      "3        1024\n",
      "Name: last_new_job, dtype: int64\n",
      "####################################\n",
      "Gender missing values : 0\n"
     ]
    }
   ],
   "source": [
    "print(df.last_new_job.unique())\n",
    "print(\"####################################\")\n",
    "print(df.last_new_job.value_counts())\n",
    "print(\"####################################\")\n",
    "print(\"last_new_job missing values :\",df.last_new_job.isna().sum())"
   ]
  },
  {
   "cell_type": "code",
   "execution_count": 25,
   "metadata": {},
   "outputs": [],
   "source": [
    "df['last_new_job'].fillna(\"1\",inplace = True)"
   ]
  },
  {
   "cell_type": "code",
   "execution_count": 28,
   "metadata": {},
   "outputs": [
    {
     "name": "stdout",
     "output_type": "stream",
     "text": [
      "['1' '>4' 'never' '4' '3' '2']\n",
      "####################################\n",
      "1        8463\n",
      ">4       3290\n",
      "2        2900\n",
      "never    2452\n",
      "4        1029\n",
      "3        1024\n",
      "Name: last_new_job, dtype: int64\n",
      "####################################\n",
      "Gender missing values : 0\n"
     ]
    }
   ],
   "source": [
    "print(df.last_new_job.unique())\n",
    "print(\"####################################\")\n",
    "print(df.last_new_job.value_counts())\n",
    "print(\"####################################\")\n",
    "print(\"last_new_job missing values :\",df.last_new_job.isna().sum())"
   ]
  },
  {
   "cell_type": "code",
   "execution_count": 29,
   "metadata": {},
   "outputs": [
    {
     "name": "stdout",
     "output_type": "stream",
     "text": [
      "<class 'pandas.core.frame.DataFrame'>\n",
      "RangeIndex: 19158 entries, 0 to 19157\n",
      "Data columns (total 10 columns):\n",
      " #   Column                  Non-Null Count  Dtype  \n",
      "---  ------                  --------------  -----  \n",
      " 0   city_development_index  19158 non-null  float64\n",
      " 1   gender                  19158 non-null  object \n",
      " 2   relevent_experience     19158 non-null  object \n",
      " 3   enrolled_university     19158 non-null  object \n",
      " 4   education_level         19158 non-null  object \n",
      " 5   major_discipline        19158 non-null  object \n",
      " 6   experience              19158 non-null  object \n",
      " 7   last_new_job            19158 non-null  object \n",
      " 8   training_hours          19158 non-null  int64  \n",
      " 9   target                  19158 non-null  float64\n",
      "dtypes: float64(2), int64(1), object(7)\n",
      "memory usage: 1.5+ MB\n"
     ]
    }
   ],
   "source": [
    "df.info()"
   ]
  },
  {
   "cell_type": "code",
   "execution_count": 29,
   "metadata": {},
   "outputs": [
    {
     "name": "stdout",
     "output_type": "stream",
     "text": [
      "Gender              :  ['Male' 'Female' 'Other']\n",
      "relevent_experience :  ['Has relevent experience' 'No relevent experience']\n",
      "enrolled_university :  ['no_enrollment' 'Full time course' 'Part time course']\n",
      "education_level     :  ['Graduate' 'Masters' 'High School' 'Phd' 'Primary School']\n",
      "major_discipline    :  ['STEM' 'Business Degree' 'Arts' 'Humanities' 'No Major' 'Other']\n",
      "experience          :  ['>20' '15' '5' '<1' '11' '13' '7' '17' '2' '16' '1' '4' '10' '14' '18'\n",
      " '19' '12' '3' '6' '9' '8' '20']\n",
      "last_new_job        :  ['1' '>4' 'never' '4' '3' '2']\n"
     ]
    }
   ],
   "source": [
    "print(\"Gender              : \",df.gender.unique())\n",
    "print(\"relevent_experience : \",df.relevent_experience.unique())\n",
    "print(\"enrolled_university : \",df.enrolled_university.unique())\n",
    "print(\"education_level     : \",df.education_level.unique())\n",
    "print(\"major_discipline    : \",df.major_discipline.unique())\n",
    "print(\"experience          : \",df.experience.unique())\n",
    "print(\"last_new_job        : \",df.last_new_job.unique())"
   ]
  },
  {
   "cell_type": "code",
   "execution_count": null,
   "metadata": {},
   "outputs": [],
   "source": [
    "# steps of EDA\n",
    "    # missing values                : No missing values\n",
    "    # outlier treatment             : As it is classification problem NO outlier treatment\n",
    "    # label encoding                : -\n",
    "    # feature scaling               : -\n",
    "    # handling imbalance dataset    : -"
   ]
  },
  {
   "cell_type": "code",
   "execution_count": null,
   "metadata": {},
   "outputs": [],
   "source": [
    "# for experience and last_new_job the numbers are in character type so the are going to be converted into number(int64)"
   ]
  },
  {
   "cell_type": "markdown",
   "metadata": {},
   "source": [
    "# LABEL ENCODING"
   ]
  },
  {
   "cell_type": "code",
   "execution_count": 30,
   "metadata": {
    "scrolled": true
   },
   "outputs": [
    {
     "name": "stdout",
     "output_type": "stream",
     "text": [
      "<class 'str'>\n",
      "#########################################\n",
      "<class 'numpy.int64'>\n"
     ]
    }
   ],
   "source": [
    "df['experience'] = df.experience.replace({'>20':21,\"<1\":0})\n",
    "\n",
    "print(type(df['experience'][1]))\n",
    "df['experience'] = df.experience.astype('int64')\n",
    "print(\"#########################################\")\n",
    "print(type(df['experience'][1]))"
   ]
  },
  {
   "cell_type": "code",
   "execution_count": 31,
   "metadata": {
    "scrolled": true
   },
   "outputs": [
    {
     "name": "stdout",
     "output_type": "stream",
     "text": [
      "<class 'str'>\n",
      "#########################################\n",
      "<class 'numpy.int64'>\n"
     ]
    }
   ],
   "source": [
    "df['last_new_job'] = df.last_new_job.replace({'>4':5,\"never\":0})\n",
    "\n",
    "print(type(df['last_new_job'][0]))\n",
    "df['last_new_job'] = df.last_new_job.astype('int64')\n",
    "print(\"#########################################\")\n",
    "print(type(df['last_new_job'][0]))"
   ]
  },
  {
   "cell_type": "code",
   "execution_count": 32,
   "metadata": {},
   "outputs": [
    {
     "name": "stdout",
     "output_type": "stream",
     "text": [
      "<class 'pandas.core.frame.DataFrame'>\n",
      "RangeIndex: 19158 entries, 0 to 19157\n",
      "Data columns (total 10 columns):\n",
      " #   Column                  Non-Null Count  Dtype  \n",
      "---  ------                  --------------  -----  \n",
      " 0   city_development_index  19158 non-null  float64\n",
      " 1   gender                  19158 non-null  object \n",
      " 2   relevent_experience     19158 non-null  object \n",
      " 3   enrolled_university     19158 non-null  object \n",
      " 4   education_level         19158 non-null  object \n",
      " 5   major_discipline        19158 non-null  object \n",
      " 6   experience              19158 non-null  int64  \n",
      " 7   last_new_job            19158 non-null  int64  \n",
      " 8   training_hours          19158 non-null  int64  \n",
      " 9   target                  19158 non-null  float64\n",
      "dtypes: float64(2), int64(3), object(5)\n",
      "memory usage: 1.5+ MB\n"
     ]
    }
   ],
   "source": [
    "df.info()"
   ]
  },
  {
   "cell_type": "code",
   "execution_count": 38,
   "metadata": {},
   "outputs": [
    {
     "data": {
      "text/plain": [
       "array([21, 15,  5,  0, 11, 13,  7, 17,  2, 16,  1,  4, 10, 14, 18, 19, 12,\n",
       "        3,  6,  9,  8, 20], dtype=int64)"
      ]
     },
     "execution_count": 38,
     "metadata": {},
     "output_type": "execute_result"
    }
   ],
   "source": [
    "df.experience.unique()"
   ]
  },
  {
   "cell_type": "code",
   "execution_count": 33,
   "metadata": {},
   "outputs": [],
   "source": [
    "from sklearn import preprocessing\n",
    "label_encoder = preprocessing.LabelEncoder()\n",
    " \n",
    "df['gender']= label_encoder.fit_transform(df['gender'])\n",
    "df['relevent_experience']= label_encoder.fit_transform(df['relevent_experience'])\n",
    "df['enrolled_university']= label_encoder.fit_transform(df['enrolled_university'])\n",
    "df['education_level']= label_encoder.fit_transform(df['education_level'])\n",
    "df['major_discipline']= label_encoder.fit_transform(df['major_discipline'])"
   ]
  },
  {
   "cell_type": "code",
   "execution_count": 34,
   "metadata": {},
   "outputs": [
    {
     "name": "stdout",
     "output_type": "stream",
     "text": [
      "Gender              :  [1 0 2]\n",
      "relevent_experience :  [0 1]\n",
      "enrolled_university :  [2 0 1]\n",
      "education_level     :  [0 2 1 3 4]\n",
      "major_discipline    :  [5 1 0 2 3 4]\n",
      "experience          :  [21 15  5  0 11 13  7 17  2 16  1  4 10 14 18 19 12  3  6  9  8 20]\n",
      "last_new_job        :  [1 5 0 4 3 2]\n"
     ]
    }
   ],
   "source": [
    "print(\"Gender              : \",df.gender.unique())\n",
    "print(\"relevent_experience : \",df.relevent_experience.unique())\n",
    "print(\"enrolled_university : \",df.enrolled_university.unique())\n",
    "print(\"education_level     : \",df.education_level.unique())\n",
    "print(\"major_discipline    : \",df.major_discipline.unique())\n",
    "print(\"experience          : \",df.experience.unique())\n",
    "print(\"last_new_job        : \",df.last_new_job.unique())"
   ]
  },
  {
   "cell_type": "code",
   "execution_count": 35,
   "metadata": {},
   "outputs": [
    {
     "name": "stdout",
     "output_type": "stream",
     "text": [
      "<class 'pandas.core.frame.DataFrame'>\n",
      "RangeIndex: 19158 entries, 0 to 19157\n",
      "Data columns (total 10 columns):\n",
      " #   Column                  Non-Null Count  Dtype  \n",
      "---  ------                  --------------  -----  \n",
      " 0   city_development_index  19158 non-null  float64\n",
      " 1   gender                  19158 non-null  int32  \n",
      " 2   relevent_experience     19158 non-null  int32  \n",
      " 3   enrolled_university     19158 non-null  int32  \n",
      " 4   education_level         19158 non-null  int32  \n",
      " 5   major_discipline        19158 non-null  int32  \n",
      " 6   experience              19158 non-null  int64  \n",
      " 7   last_new_job            19158 non-null  int64  \n",
      " 8   training_hours          19158 non-null  int64  \n",
      " 9   target                  19158 non-null  float64\n",
      "dtypes: float64(2), int32(5), int64(3)\n",
      "memory usage: 1.1 MB\n"
     ]
    }
   ],
   "source": [
    "df.info()"
   ]
  },
  {
   "cell_type": "code",
   "execution_count": 50,
   "metadata": {},
   "outputs": [
    {
     "data": {
      "text/html": [
       "<div>\n",
       "<style scoped>\n",
       "    .dataframe tbody tr th:only-of-type {\n",
       "        vertical-align: middle;\n",
       "    }\n",
       "\n",
       "    .dataframe tbody tr th {\n",
       "        vertical-align: top;\n",
       "    }\n",
       "\n",
       "    .dataframe thead th {\n",
       "        text-align: right;\n",
       "    }\n",
       "</style>\n",
       "<table border=\"1\" class=\"dataframe\">\n",
       "  <thead>\n",
       "    <tr style=\"text-align: right;\">\n",
       "      <th></th>\n",
       "      <th>city_development_index</th>\n",
       "      <th>gender</th>\n",
       "      <th>relevent_experience</th>\n",
       "      <th>enrolled_university</th>\n",
       "      <th>education_level</th>\n",
       "      <th>major_discipline</th>\n",
       "      <th>experience</th>\n",
       "      <th>last_new_job</th>\n",
       "      <th>training_hours</th>\n",
       "      <th>target</th>\n",
       "    </tr>\n",
       "  </thead>\n",
       "  <tbody>\n",
       "    <tr>\n",
       "      <th>0</th>\n",
       "      <td>0.920</td>\n",
       "      <td>1</td>\n",
       "      <td>0</td>\n",
       "      <td>2</td>\n",
       "      <td>0</td>\n",
       "      <td>5</td>\n",
       "      <td>21</td>\n",
       "      <td>1</td>\n",
       "      <td>36</td>\n",
       "      <td>1.0</td>\n",
       "    </tr>\n",
       "    <tr>\n",
       "      <th>1</th>\n",
       "      <td>0.776</td>\n",
       "      <td>1</td>\n",
       "      <td>1</td>\n",
       "      <td>2</td>\n",
       "      <td>0</td>\n",
       "      <td>5</td>\n",
       "      <td>15</td>\n",
       "      <td>5</td>\n",
       "      <td>47</td>\n",
       "      <td>0.0</td>\n",
       "    </tr>\n",
       "    <tr>\n",
       "      <th>2</th>\n",
       "      <td>0.624</td>\n",
       "      <td>1</td>\n",
       "      <td>1</td>\n",
       "      <td>0</td>\n",
       "      <td>0</td>\n",
       "      <td>5</td>\n",
       "      <td>5</td>\n",
       "      <td>0</td>\n",
       "      <td>83</td>\n",
       "      <td>0.0</td>\n",
       "    </tr>\n",
       "    <tr>\n",
       "      <th>3</th>\n",
       "      <td>0.789</td>\n",
       "      <td>1</td>\n",
       "      <td>1</td>\n",
       "      <td>2</td>\n",
       "      <td>0</td>\n",
       "      <td>1</td>\n",
       "      <td>0</td>\n",
       "      <td>0</td>\n",
       "      <td>52</td>\n",
       "      <td>1.0</td>\n",
       "    </tr>\n",
       "    <tr>\n",
       "      <th>4</th>\n",
       "      <td>0.767</td>\n",
       "      <td>1</td>\n",
       "      <td>0</td>\n",
       "      <td>2</td>\n",
       "      <td>2</td>\n",
       "      <td>5</td>\n",
       "      <td>21</td>\n",
       "      <td>4</td>\n",
       "      <td>8</td>\n",
       "      <td>0.0</td>\n",
       "    </tr>\n",
       "  </tbody>\n",
       "</table>\n",
       "</div>"
      ],
      "text/plain": [
       "   city_development_index  gender  relevent_experience  enrolled_university  \\\n",
       "0                   0.920       1                    0                    2   \n",
       "1                   0.776       1                    1                    2   \n",
       "2                   0.624       1                    1                    0   \n",
       "3                   0.789       1                    1                    2   \n",
       "4                   0.767       1                    0                    2   \n",
       "\n",
       "   education_level  major_discipline  experience  last_new_job  \\\n",
       "0                0                 5          21             1   \n",
       "1                0                 5          15             5   \n",
       "2                0                 5           5             0   \n",
       "3                0                 1           0             0   \n",
       "4                2                 5          21             4   \n",
       "\n",
       "   training_hours  target  \n",
       "0              36     1.0  \n",
       "1              47     0.0  \n",
       "2              83     0.0  \n",
       "3              52     1.0  \n",
       "4               8     0.0  "
      ]
     },
     "execution_count": 50,
     "metadata": {},
     "output_type": "execute_result"
    }
   ],
   "source": [
    "df.head()"
   ]
  },
  {
   "cell_type": "code",
   "execution_count": 36,
   "metadata": {},
   "outputs": [
    {
     "data": {
      "text/html": [
       "<div>\n",
       "<style scoped>\n",
       "    .dataframe tbody tr th:only-of-type {\n",
       "        vertical-align: middle;\n",
       "    }\n",
       "\n",
       "    .dataframe tbody tr th {\n",
       "        vertical-align: top;\n",
       "    }\n",
       "\n",
       "    .dataframe thead th {\n",
       "        text-align: right;\n",
       "    }\n",
       "</style>\n",
       "<table border=\"1\" class=\"dataframe\">\n",
       "  <thead>\n",
       "    <tr style=\"text-align: right;\">\n",
       "      <th></th>\n",
       "      <th>city_development_index</th>\n",
       "      <th>experience</th>\n",
       "      <th>last_new_job</th>\n",
       "      <th>training_hours</th>\n",
       "      <th>target</th>\n",
       "      <th>gender_0</th>\n",
       "      <th>gender_1</th>\n",
       "      <th>gender_2</th>\n",
       "      <th>relevent_experience_0</th>\n",
       "      <th>relevent_experience_1</th>\n",
       "      <th>...</th>\n",
       "      <th>education_level_1</th>\n",
       "      <th>education_level_2</th>\n",
       "      <th>education_level_3</th>\n",
       "      <th>education_level_4</th>\n",
       "      <th>major_discipline_0</th>\n",
       "      <th>major_discipline_1</th>\n",
       "      <th>major_discipline_2</th>\n",
       "      <th>major_discipline_3</th>\n",
       "      <th>major_discipline_4</th>\n",
       "      <th>major_discipline_5</th>\n",
       "    </tr>\n",
       "  </thead>\n",
       "  <tbody>\n",
       "    <tr>\n",
       "      <th>0</th>\n",
       "      <td>0.920</td>\n",
       "      <td>21</td>\n",
       "      <td>1</td>\n",
       "      <td>36</td>\n",
       "      <td>1.0</td>\n",
       "      <td>0</td>\n",
       "      <td>1</td>\n",
       "      <td>0</td>\n",
       "      <td>1</td>\n",
       "      <td>0</td>\n",
       "      <td>...</td>\n",
       "      <td>0</td>\n",
       "      <td>0</td>\n",
       "      <td>0</td>\n",
       "      <td>0</td>\n",
       "      <td>0</td>\n",
       "      <td>0</td>\n",
       "      <td>0</td>\n",
       "      <td>0</td>\n",
       "      <td>0</td>\n",
       "      <td>1</td>\n",
       "    </tr>\n",
       "    <tr>\n",
       "      <th>1</th>\n",
       "      <td>0.776</td>\n",
       "      <td>15</td>\n",
       "      <td>5</td>\n",
       "      <td>47</td>\n",
       "      <td>0.0</td>\n",
       "      <td>0</td>\n",
       "      <td>1</td>\n",
       "      <td>0</td>\n",
       "      <td>0</td>\n",
       "      <td>1</td>\n",
       "      <td>...</td>\n",
       "      <td>0</td>\n",
       "      <td>0</td>\n",
       "      <td>0</td>\n",
       "      <td>0</td>\n",
       "      <td>0</td>\n",
       "      <td>0</td>\n",
       "      <td>0</td>\n",
       "      <td>0</td>\n",
       "      <td>0</td>\n",
       "      <td>1</td>\n",
       "    </tr>\n",
       "    <tr>\n",
       "      <th>2</th>\n",
       "      <td>0.624</td>\n",
       "      <td>5</td>\n",
       "      <td>0</td>\n",
       "      <td>83</td>\n",
       "      <td>0.0</td>\n",
       "      <td>0</td>\n",
       "      <td>1</td>\n",
       "      <td>0</td>\n",
       "      <td>0</td>\n",
       "      <td>1</td>\n",
       "      <td>...</td>\n",
       "      <td>0</td>\n",
       "      <td>0</td>\n",
       "      <td>0</td>\n",
       "      <td>0</td>\n",
       "      <td>0</td>\n",
       "      <td>0</td>\n",
       "      <td>0</td>\n",
       "      <td>0</td>\n",
       "      <td>0</td>\n",
       "      <td>1</td>\n",
       "    </tr>\n",
       "    <tr>\n",
       "      <th>3</th>\n",
       "      <td>0.789</td>\n",
       "      <td>0</td>\n",
       "      <td>0</td>\n",
       "      <td>52</td>\n",
       "      <td>1.0</td>\n",
       "      <td>0</td>\n",
       "      <td>1</td>\n",
       "      <td>0</td>\n",
       "      <td>0</td>\n",
       "      <td>1</td>\n",
       "      <td>...</td>\n",
       "      <td>0</td>\n",
       "      <td>0</td>\n",
       "      <td>0</td>\n",
       "      <td>0</td>\n",
       "      <td>0</td>\n",
       "      <td>1</td>\n",
       "      <td>0</td>\n",
       "      <td>0</td>\n",
       "      <td>0</td>\n",
       "      <td>0</td>\n",
       "    </tr>\n",
       "    <tr>\n",
       "      <th>4</th>\n",
       "      <td>0.767</td>\n",
       "      <td>21</td>\n",
       "      <td>4</td>\n",
       "      <td>8</td>\n",
       "      <td>0.0</td>\n",
       "      <td>0</td>\n",
       "      <td>1</td>\n",
       "      <td>0</td>\n",
       "      <td>1</td>\n",
       "      <td>0</td>\n",
       "      <td>...</td>\n",
       "      <td>0</td>\n",
       "      <td>1</td>\n",
       "      <td>0</td>\n",
       "      <td>0</td>\n",
       "      <td>0</td>\n",
       "      <td>0</td>\n",
       "      <td>0</td>\n",
       "      <td>0</td>\n",
       "      <td>0</td>\n",
       "      <td>1</td>\n",
       "    </tr>\n",
       "  </tbody>\n",
       "</table>\n",
       "<p>5 rows × 24 columns</p>\n",
       "</div>"
      ],
      "text/plain": [
       "   city_development_index  experience  last_new_job  training_hours  target  \\\n",
       "0                   0.920          21             1              36     1.0   \n",
       "1                   0.776          15             5              47     0.0   \n",
       "2                   0.624           5             0              83     0.0   \n",
       "3                   0.789           0             0              52     1.0   \n",
       "4                   0.767          21             4               8     0.0   \n",
       "\n",
       "   gender_0  gender_1  gender_2  relevent_experience_0  relevent_experience_1  \\\n",
       "0         0         1         0                      1                      0   \n",
       "1         0         1         0                      0                      1   \n",
       "2         0         1         0                      0                      1   \n",
       "3         0         1         0                      0                      1   \n",
       "4         0         1         0                      1                      0   \n",
       "\n",
       "   ...  education_level_1  education_level_2  education_level_3  \\\n",
       "0  ...                  0                  0                  0   \n",
       "1  ...                  0                  0                  0   \n",
       "2  ...                  0                  0                  0   \n",
       "3  ...                  0                  0                  0   \n",
       "4  ...                  0                  1                  0   \n",
       "\n",
       "   education_level_4  major_discipline_0  major_discipline_1  \\\n",
       "0                  0                   0                   0   \n",
       "1                  0                   0                   0   \n",
       "2                  0                   0                   0   \n",
       "3                  0                   0                   1   \n",
       "4                  0                   0                   0   \n",
       "\n",
       "   major_discipline_2  major_discipline_3  major_discipline_4  \\\n",
       "0                   0                   0                   0   \n",
       "1                   0                   0                   0   \n",
       "2                   0                   0                   0   \n",
       "3                   0                   0                   0   \n",
       "4                   0                   0                   0   \n",
       "\n",
       "   major_discipline_5  \n",
       "0                   1  \n",
       "1                   1  \n",
       "2                   1  \n",
       "3                   0  \n",
       "4                   1  \n",
       "\n",
       "[5 rows x 24 columns]"
      ]
     },
     "execution_count": 36,
     "metadata": {},
     "output_type": "execute_result"
    }
   ],
   "source": [
    "df = pd.get_dummies(df, columns = ['gender','relevent_experience','enrolled_university',\n",
    "                                                     'education_level','major_discipline'])\n",
    "df.head()"
   ]
  },
  {
   "cell_type": "code",
   "execution_count": 37,
   "metadata": {},
   "outputs": [
    {
     "data": {
      "text/plain": [
       "(19158, 24)"
      ]
     },
     "execution_count": 37,
     "metadata": {},
     "output_type": "execute_result"
    }
   ],
   "source": [
    "df.shape"
   ]
  },
  {
   "cell_type": "code",
   "execution_count": 48,
   "metadata": {},
   "outputs": [
    {
     "name": "stdout",
     "output_type": "stream",
     "text": [
      "0, city_development_index\n",
      "1, experience\n",
      "2, last_new_job\n",
      "3, training_hours\n",
      "4, target\n",
      "5, gender_1\n",
      "6, gender_2\n",
      "7, relevent_experience_1\n",
      "8, enrolled_university_1\n",
      "9, enrolled_university_2\n",
      "10, education_level_1\n",
      "11, education_level_2\n",
      "12, education_level_3\n",
      "13, education_level_4\n",
      "14, major_discipline_1\n",
      "15, major_discipline_2\n",
      "16, major_discipline_3\n",
      "17, major_discipline_4\n",
      "18, major_discipline_5\n"
     ]
    }
   ],
   "source": [
    "a = 0\n",
    "for i in df.columns:\n",
    "    print(f'{a}, {i}')\n",
    "    a += 1"
   ]
  },
  {
   "cell_type": "code",
   "execution_count": 47,
   "metadata": {},
   "outputs": [],
   "source": [
    "df.drop(df.columns[[5,8,10,13,18]], axis = 1, inplace = True)"
   ]
  },
  {
   "cell_type": "code",
   "execution_count": null,
   "metadata": {},
   "outputs": [],
   "source": [
    "# steps of EDA\n",
    "    # missing values                : No missing values\n",
    "    # outlier treatment             : As it is classification problem NO outlier treatment\n",
    "    # label encoding                : Label encoding done\n",
    "    # feature scaling               : -\n",
    "    # handling imbalance dataset    : -"
   ]
  },
  {
   "cell_type": "markdown",
   "metadata": {},
   "source": [
    "# IMBALANCE DATASET"
   ]
  },
  {
   "cell_type": "code",
   "execution_count": 94,
   "metadata": {
    "scrolled": true
   },
   "outputs": [
    {
     "name": "stderr",
     "output_type": "stream",
     "text": [
      "C:\\Users\\Aditya Mathew\\anaconda3\\lib\\site-packages\\seaborn\\_decorators.py:36: FutureWarning: Pass the following variable as a keyword arg: x. From version 0.12, the only valid positional argument will be `data`, and passing other arguments without an explicit keyword will result in an error or misinterpretation.\n",
      "  warnings.warn(\n"
     ]
    },
    {
     "data": {
      "image/png": "[encoded data removed]",
      "text/plain": [
       "<Figure size 720x360 with 1 Axes>"
      ]
     },
     "metadata": {
      "needs_background": "light"
     },
     "output_type": "display_data"
    }
   ],
   "source": [
    "plt.figure(figsize =(10, 5))\n",
    "sns.countplot(df.target,palette='hls')\n",
    "plt.show()"
   ]
  },
  {
   "cell_type": "code",
   "execution_count": 50,
   "metadata": {},
   "outputs": [
    {
     "data": {
      "text/plain": [
       "0.0    14381\n",
       "1.0     4777\n",
       "Name: target, dtype: int64"
      ]
     },
     "execution_count": 50,
     "metadata": {},
     "output_type": "execute_result"
    }
   ],
   "source": [
    "df.target.value_counts()"
   ]
  },
  {
   "cell_type": "code",
   "execution_count": 58,
   "metadata": {},
   "outputs": [
    {
     "data": {
      "text/plain": [
       "9554"
      ]
     },
     "execution_count": 58,
     "metadata": {},
     "output_type": "execute_result"
    }
   ],
   "source": [
    "4777*2"
   ]
  },
  {
   "cell_type": "code",
   "execution_count": null,
   "metadata": {},
   "outputs": [],
   "source": [
    "# minority * 2 <= majority , Hence it is imbalance dataset"
   ]
  },
  {
   "cell_type": "code",
   "execution_count": 51,
   "metadata": {},
   "outputs": [],
   "source": [
    "X = df\n",
    "X = X.drop('target',1)\n",
    "y = df['target'].values"
   ]
  },
  {
   "cell_type": "code",
   "execution_count": 54,
   "metadata": {},
   "outputs": [],
   "source": [
    "from imblearn.over_sampling import SMOTE\n",
    "from collections import Counter\n",
    "\n",
    "smote = SMOTE()\n",
    "\n",
    "X_smote, y_smote = smote.fit_resample(X, y)"
   ]
  },
  {
   "cell_type": "code",
   "execution_count": 75,
   "metadata": {},
   "outputs": [
    {
     "name": "stderr",
     "output_type": "stream",
     "text": [
      "C:\\Users\\Aditya Mathew\\anaconda3\\lib\\site-packages\\seaborn\\_decorators.py:36: FutureWarning: Pass the following variable as a keyword arg: x. From version 0.12, the only valid positional argument will be `data`, and passing other arguments without an explicit keyword will result in an error or misinterpretation.\n",
      "  warnings.warn(\n"
     ]
    },
    {
     "data": {
      "image/png": "[encoded data removed]",
      "text/plain": [
       "<Figure size 720x360 with 1 Axes>"
      ]
     },
     "metadata": {
      "needs_background": "light"
     },
     "output_type": "display_data"
    }
   ],
   "source": [
    "plt.figure(figsize =(10, 5))\n",
    "sns.countplot(y_smote,palette='hls')\n",
    "plt.show()"
   ]
  },
  {
   "cell_type": "code",
   "execution_count": 55,
   "metadata": {},
   "outputs": [],
   "source": [
    "from sklearn.model_selection import train_test_split\n",
    "X_train, X_test, y_train, y_test = train_test_split(X_smote, y_smote, test_size = 0.25, random_state = 0)"
   ]
  },
  {
   "cell_type": "code",
   "execution_count": 56,
   "metadata": {},
   "outputs": [
    {
     "name": "stdout",
     "output_type": "stream",
     "text": [
      "21571 7191 21571 7191\n"
     ]
    }
   ],
   "source": [
    "print(len(X_train),len(X_test),len(y_train),len(y_test))"
   ]
  },
  {
   "cell_type": "markdown",
   "metadata": {},
   "source": [
    "# FEATURE SCALING"
   ]
  },
  {
   "cell_type": "code",
   "execution_count": 57,
   "metadata": {},
   "outputs": [],
   "source": [
    "from sklearn.preprocessing import StandardScaler\n",
    "std_X = StandardScaler()\n",
    "X_train = std_X.fit_transform(X_train)\n",
    "X_test = std_X.transform(X_test)"
   ]
  },
  {
   "cell_type": "code",
   "execution_count": 58,
   "metadata": {},
   "outputs": [
    {
     "data": {
      "text/plain": [
       "array([[-1.40544209, -0.6474073 , -1.12214026, ..., -0.0901775 ,\n",
       "        -0.11795356,  0.34159155],\n",
       "       [ 0.84134382, -1.24049225, -0.50488443, ..., -0.0901775 ,\n",
       "        -0.11795356, -2.9274729 ],\n",
       "       [ 0.89960179,  1.57666124,  0.11237141, ..., -0.0901775 ,\n",
       "        -0.11795356,  0.34159155],\n",
       "       ...,\n",
       "       [ 0.89960179, -0.49913607, -1.12214026, ..., -0.0901775 ,\n",
       "        -0.11795356,  0.34159155],\n",
       "       [-1.40544209, -1.09222101, -0.50488443, ..., -0.0901775 ,\n",
       "        -0.11795356,  0.34159155],\n",
       "       [ 0.82172869,  0.39049135, -0.50488443, ..., -0.0901775 ,\n",
       "        -0.11795356,  0.34159155]])"
      ]
     },
     "execution_count": 58,
     "metadata": {},
     "output_type": "execute_result"
    }
   ],
   "source": [
    "X_train"
   ]
  },
  {
   "cell_type": "markdown",
   "metadata": {},
   "source": [
    "# MODEL BUILDING"
   ]
  },
  {
   "cell_type": "markdown",
   "metadata": {},
   "source": [
    "## LOGISTIC REGRESSION"
   ]
  },
  {
   "cell_type": "code",
   "execution_count": 59,
   "metadata": {},
   "outputs": [],
   "source": [
    "from sklearn.linear_model import LogisticRegression\n",
    "LogReg_model = LogisticRegression(random_state = 0)"
   ]
  },
  {
   "cell_type": "code",
   "execution_count": 60,
   "metadata": {},
   "outputs": [
    {
     "data": {
      "text/plain": [
       "LogisticRegression(random_state=0)"
      ]
     },
     "execution_count": 60,
     "metadata": {},
     "output_type": "execute_result"
    }
   ],
   "source": [
    "LogReg_model.fit(X_train, y_train)"
   ]
  },
  {
   "cell_type": "code",
   "execution_count": 61,
   "metadata": {},
   "outputs": [
    {
     "data": {
      "text/plain": [
       "0.738840216937839"
      ]
     },
     "execution_count": 61,
     "metadata": {},
     "output_type": "execute_result"
    }
   ],
   "source": [
    "LogReg_model.score(X_test,y_test)"
   ]
  },
  {
   "cell_type": "code",
   "execution_count": 62,
   "metadata": {},
   "outputs": [],
   "source": [
    "y_predict_LogReg = LogReg_model.predict(X_test)"
   ]
  },
  {
   "cell_type": "code",
   "execution_count": 63,
   "metadata": {},
   "outputs": [
    {
     "data": {
      "text/plain": [
       "array([[2668,  857],\n",
       "       [1021, 2645]], dtype=int64)"
      ]
     },
     "execution_count": 63,
     "metadata": {},
     "output_type": "execute_result"
    }
   ],
   "source": [
    "from sklearn.metrics import confusion_matrix\n",
    "cm_LogReg = confusion_matrix(y_test, y_predict_LogReg)\n",
    "cm_LogReg"
   ]
  },
  {
   "cell_type": "code",
   "execution_count": 64,
   "metadata": {},
   "outputs": [
    {
     "data": {
      "text/plain": [
       "Text(69.0, 0.5, 'Truth')"
      ]
     },
     "execution_count": 64,
     "metadata": {},
     "output_type": "execute_result"
    },
    {
     "data": {
      "image/png": "[encoded data removed]",
      "text/plain": [
       "<Figure size 720x504 with 2 Axes>"
      ]
     },
     "metadata": {
      "needs_background": "light"
     },
     "output_type": "display_data"
    }
   ],
   "source": [
    "plt.figure(figsize = (10,7))\n",
    "sns.heatmap(cm_LogReg, annot=True)\n",
    "plt.xlabel('Predicted')\n",
    "plt.ylabel('Truth')"
   ]
  },
  {
   "cell_type": "code",
   "execution_count": 65,
   "metadata": {},
   "outputs": [
    {
     "name": "stdout",
     "output_type": "stream",
     "text": [
      "              precision    recall  f1-score   support\n",
      "\n",
      "         0.0       0.72      0.76      0.74      3525\n",
      "         1.0       0.76      0.72      0.74      3666\n",
      "\n",
      "    accuracy                           0.74      7191\n",
      "   macro avg       0.74      0.74      0.74      7191\n",
      "weighted avg       0.74      0.74      0.74      7191\n",
      "\n"
     ]
    }
   ],
   "source": [
    "from sklearn.metrics import classification_report\n",
    "print(classification_report(y_test, y_predict_LogReg))"
   ]
  },
  {
   "cell_type": "code",
   "execution_count": 66,
   "metadata": {},
   "outputs": [],
   "source": [
    "#### Lets plot the ROC Curve\n",
    "from sklearn.metrics import roc_curve\n",
    "from sklearn.metrics import roc_auc_score\n",
    "from sklearn.metrics import precision_recall_curve"
   ]
  },
  {
   "cell_type": "code",
   "execution_count": 68,
   "metadata": {},
   "outputs": [
    {
     "name": "stdout",
     "output_type": "stream",
     "text": [
      "No Skill: ROC AUC=0.500\n",
      "Logistic: ROC AUC=0.802\n"
     ]
    },
    {
     "data": {
      "image/png": "[encoded data removed]",
      "text/plain": [
       "<Figure size 432x288 with 1 Axes>"
      ]
     },
     "metadata": {
      "needs_background": "light"
     },
     "output_type": "display_data"
    }
   ],
   "source": [
    "# generate a no skill prediction (majority class)\n",
    "ns_probs = [0 for _ in range(len(y_test))]\n",
    "# predict probabilities\n",
    "lr_probs = LogReg_model.predict_proba(X_test)\n",
    "# keep probabilities for the positive outcome only\n",
    "lr_probs = lr_probs[:, 1]\n",
    "# calculate scores\n",
    "ns_auc = roc_auc_score(y_test, ns_probs)\n",
    "lr_auc = roc_auc_score(y_test, lr_probs)\n",
    "# summarize scores\n",
    "print('No Skill: ROC AUC=%.3f' % (ns_auc))\n",
    "print('Logistic: ROC AUC=%.3f' % (lr_auc))\n",
    "# calculate roc curves\n",
    "ns_fpr, ns_tpr, _ = roc_curve(y_test, ns_probs)\n",
    "lr_fpr, lr_tpr, _ = roc_curve(y_test, lr_probs)\n",
    "# plot the roc curve for the model\n",
    "plt.plot(ns_fpr, ns_tpr, linestyle='--', label='No Skill')\n",
    "plt.plot(lr_fpr, lr_tpr, marker='.', label='Logistic')\n",
    "# axis labels\n",
    "plt.xlabel('False Positive Rate')\n",
    "plt.ylabel('True Positive Rate')\n",
    "# show the legend\n",
    "plt.legend()\n",
    "# show the plot\n",
    "plt.show()"
   ]
  },
  {
   "cell_type": "markdown",
   "metadata": {},
   "source": [
    "# DECISION TREE"
   ]
  },
  {
   "cell_type": "code",
   "execution_count": 69,
   "metadata": {},
   "outputs": [],
   "source": [
    "from sklearn.tree import DecisionTreeClassifier \n",
    "from sklearn import tree\n",
    "DT_model = DecisionTreeClassifier(random_state = 0, criterion=\"gini\")"
   ]
  },
  {
   "cell_type": "code",
   "execution_count": 70,
   "metadata": {},
   "outputs": [
    {
     "data": {
      "text/plain": [
       "DecisionTreeClassifier(random_state=0)"
      ]
     },
     "execution_count": 70,
     "metadata": {},
     "output_type": "execute_result"
    }
   ],
   "source": [
    "DT_model.fit(X_train, y_train)"
   ]
  },
  {
   "cell_type": "code",
   "execution_count": 71,
   "metadata": {},
   "outputs": [
    {
     "data": {
      "text/plain": [
       "0.7596996245306633"
      ]
     },
     "execution_count": 71,
     "metadata": {},
     "output_type": "execute_result"
    }
   ],
   "source": [
    "DT_model.score(X_test,y_test)"
   ]
  },
  {
   "cell_type": "code",
   "execution_count": 76,
   "metadata": {},
   "outputs": [],
   "source": [
    "y_predict_DT = DT_model.predict(X_test)"
   ]
  },
  {
   "cell_type": "code",
   "execution_count": 77,
   "metadata": {},
   "outputs": [
    {
     "data": {
      "text/plain": [
       "array([[2633,  892],\n",
       "       [ 836, 2830]], dtype=int64)"
      ]
     },
     "execution_count": 77,
     "metadata": {},
     "output_type": "execute_result"
    }
   ],
   "source": [
    "cm_DT = confusion_matrix(y_test, y_predict_DT)\n",
    "cm_DT"
   ]
  },
  {
   "cell_type": "code",
   "execution_count": 78,
   "metadata": {},
   "outputs": [
    {
     "data": {
      "text/plain": [
       "Text(69.0, 0.5, 'Truth')"
      ]
     },
     "execution_count": 78,
     "metadata": {},
     "output_type": "execute_result"
    },
    {
     "data": {
      "image/png": "[encoded data removed]",
      "text/plain": [
       "<Figure size 720x504 with 2 Axes>"
      ]
     },
     "metadata": {
      "needs_background": "light"
     },
     "output_type": "display_data"
    }
   ],
   "source": [
    "plt.figure(figsize = (10,7))\n",
    "sns.heatmap(cm_DT, annot=True)\n",
    "plt.xlabel('Predicted')\n",
    "plt.ylabel('Truth')"
   ]
  },
  {
   "cell_type": "code",
   "execution_count": 79,
   "metadata": {},
   "outputs": [
    {
     "name": "stdout",
     "output_type": "stream",
     "text": [
      "              precision    recall  f1-score   support\n",
      "\n",
      "         0.0       0.76      0.75      0.75      3525\n",
      "         1.0       0.76      0.77      0.77      3666\n",
      "\n",
      "    accuracy                           0.76      7191\n",
      "   macro avg       0.76      0.76      0.76      7191\n",
      "weighted avg       0.76      0.76      0.76      7191\n",
      "\n"
     ]
    }
   ],
   "source": [
    "print(classification_report(y_test, y_predict_DT))"
   ]
  },
  {
   "cell_type": "markdown",
   "metadata": {},
   "source": [
    "# RANDOM FORESTS"
   ]
  },
  {
   "cell_type": "code",
   "execution_count": 80,
   "metadata": {},
   "outputs": [],
   "source": [
    "from sklearn.ensemble import RandomForestClassifier\n",
    "RF_model = RandomForestClassifier( random_state = 0,n_estimators=100)"
   ]
  },
  {
   "cell_type": "code",
   "execution_count": 81,
   "metadata": {},
   "outputs": [
    {
     "data": {
      "text/plain": [
       "RandomForestClassifier(random_state=0)"
      ]
     },
     "execution_count": 81,
     "metadata": {},
     "output_type": "execute_result"
    }
   ],
   "source": [
    "RF_model.fit(X_train,y_train)"
   ]
  },
  {
   "cell_type": "code",
   "execution_count": 82,
   "metadata": {},
   "outputs": [
    {
     "data": {
      "text/plain": [
       "0.7801418439716312"
      ]
     },
     "execution_count": 82,
     "metadata": {},
     "output_type": "execute_result"
    }
   ],
   "source": [
    "RF_model.score(X_test,y_test)"
   ]
  },
  {
   "cell_type": "code",
   "execution_count": 83,
   "metadata": {},
   "outputs": [],
   "source": [
    "y_predict_RF = RF_model.predict(X_test)"
   ]
  },
  {
   "cell_type": "code",
   "execution_count": 84,
   "metadata": {},
   "outputs": [
    {
     "data": {
      "text/plain": [
       "array([[2745,  780],\n",
       "       [ 801, 2865]], dtype=int64)"
      ]
     },
     "execution_count": 84,
     "metadata": {},
     "output_type": "execute_result"
    }
   ],
   "source": [
    "cm_RF = confusion_matrix(y_test, y_predict_RF)\n",
    "cm_RF"
   ]
  },
  {
   "cell_type": "code",
   "execution_count": 85,
   "metadata": {},
   "outputs": [
    {
     "data": {
      "text/plain": [
       "Text(69.0, 0.5, 'Truth')"
      ]
     },
     "execution_count": 85,
     "metadata": {},
     "output_type": "execute_result"
    },
    {
     "data": {
      "image/png": "[encoded data removed]",
      "text/plain": [
       "<Figure size 720x504 with 2 Axes>"
      ]
     },
     "metadata": {
      "needs_background": "light"
     },
     "output_type": "display_data"
    }
   ],
   "source": [
    "plt.figure(figsize = (10,7))\n",
    "sns.heatmap(cm_RF, annot=True)\n",
    "plt.xlabel('Predicted')\n",
    "plt.ylabel('Truth')"
   ]
  },
  {
   "cell_type": "code",
   "execution_count": 86,
   "metadata": {},
   "outputs": [
    {
     "name": "stdout",
     "output_type": "stream",
     "text": [
      "              precision    recall  f1-score   support\n",
      "\n",
      "         0.0       0.77      0.78      0.78      3525\n",
      "         1.0       0.79      0.78      0.78      3666\n",
      "\n",
      "    accuracy                           0.78      7191\n",
      "   macro avg       0.78      0.78      0.78      7191\n",
      "weighted avg       0.78      0.78      0.78      7191\n",
      "\n"
     ]
    }
   ],
   "source": [
    "print(classification_report(y_test, y_predict_RF))"
   ]
  },
  {
   "cell_type": "markdown",
   "metadata": {},
   "source": [
    "# XGBOOST"
   ]
  },
  {
   "cell_type": "code",
   "execution_count": 88,
   "metadata": {},
   "outputs": [
    {
     "name": "stderr",
     "output_type": "stream",
     "text": [
      "C:\\Users\\Aditya Mathew\\anaconda3\\lib\\site-packages\\xgboost\\sklearn.py:1224: UserWarning: The use of label encoder in XGBClassifier is deprecated and will be removed in a future release. To remove this warning, do the following: 1) Pass option use_label_encoder=False when constructing XGBClassifier object; and 2) Encode your labels (y) as integers starting with 0, i.e. 0, 1, 2, ..., [num_class - 1].\n",
      "  warnings.warn(label_encoder_deprecation_msg, UserWarning)\n"
     ]
    },
    {
     "name": "stdout",
     "output_type": "stream",
     "text": [
      "[18:21:39] WARNING: C:/Users/Administrator/workspace/xgboost-win64_release_1.5.0/src/learner.cc:1115: Starting in XGBoost 1.3.0, the default evaluation metric used with the objective 'binary:logistic' was changed from 'error' to 'logloss'. Explicitly set eval_metric if you'd like to restore the old behavior.\n"
     ]
    },
    {
     "data": {
      "text/plain": [
       "XGBClassifier(base_score=0.5, booster='gbtree', colsample_bylevel=1,\n",
       "              colsample_bynode=1, colsample_bytree=1, enable_categorical=False,\n",
       "              gamma=0, gpu_id=-1, importance_type=None,\n",
       "              interaction_constraints='', learning_rate=0.300000012,\n",
       "              max_delta_step=0, max_depth=6, min_child_weight=1, missing=nan,\n",
       "              monotone_constraints='()', n_estimators=100, n_jobs=8,\n",
       "              num_parallel_tree=1, predictor='auto', random_state=0,\n",
       "              reg_alpha=0, reg_lambda=1, scale_pos_weight=1, subsample=1,\n",
       "              tree_method='exact', validate_parameters=1, verbosity=None)"
      ]
     },
     "execution_count": 88,
     "metadata": {},
     "output_type": "execute_result"
    }
   ],
   "source": [
    "import xgboost as xgb\n",
    "XG_model = xgb.XGBClassifier()\n",
    "XG_model.fit(X_train, y_train)"
   ]
  },
  {
   "cell_type": "code",
   "execution_count": 89,
   "metadata": {},
   "outputs": [
    {
     "data": {
      "text/plain": [
       "0.8226950354609929"
      ]
     },
     "execution_count": 89,
     "metadata": {},
     "output_type": "execute_result"
    }
   ],
   "source": [
    "XG_model.score(X_test,y_test)"
   ]
  },
  {
   "cell_type": "code",
   "execution_count": 90,
   "metadata": {},
   "outputs": [],
   "source": [
    "y_pred_XG = XG_model.predict(X_test)"
   ]
  },
  {
   "cell_type": "code",
   "execution_count": 91,
   "metadata": {},
   "outputs": [],
   "source": [
    "cm_XG = confusion_matrix(y_test, y_pred_XG)\n",
    "cm_XG"
   ]
  },
  {
   "cell_type": "code",
   "execution_count": 92,
   "metadata": {},
   "outputs": [
    {
     "data": {
      "text/plain": [
       "Text(69.0, 0.5, 'Truth')"
      ]
     },
     "execution_count": 92,
     "metadata": {},
     "output_type": "execute_result"
    },
    {
     "data": {
      "image/png": "[encoded data removed]",
      "text/plain": [
       "<Figure size 720x504 with 2 Axes>"
      ]
     },
     "metadata": {
      "needs_background": "light"
     },
     "output_type": "display_data"
    }
   ],
   "source": [
    "plt.figure(figsize = (10,7))\n",
    "sns.heatmap(cm_XG, annot=True)\n",
    "plt.xlabel('Predicted')\n",
    "plt.ylabel('Truth')"
   ]
  },
  {
   "cell_type": "code",
   "execution_count": 96,
   "metadata": {},
   "outputs": [
    {
     "name": "stdout",
     "output_type": "stream",
     "text": [
      "              precision    recall  f1-score   support\n",
      "\n",
      "         0.0       0.81      0.84      0.82      3525\n",
      "         1.0       0.84      0.80      0.82      3666\n",
      "\n",
      "    accuracy                           0.82      7191\n",
      "   macro avg       0.82      0.82      0.82      7191\n",
      "weighted avg       0.82      0.82      0.82      7191\n",
      "\n"
     ]
    }
   ],
   "source": [
    "print(classification_report(y_test, y_pred_XG))"
   ]
  },
  {
   "cell_type": "markdown",
   "metadata": {},
   "source": [
    "# K-FOLD METHOD"
   ]
  },
  {
   "cell_type": "code",
   "execution_count": 87,
   "metadata": {},
   "outputs": [
    {
     "name": "stdout",
     "output_type": "stream",
     "text": [
      "[0.74884152 0.77757183 0.75625579 0.78035218 0.77386469 0.78683967\n",
      " 0.77849861 0.77664504 0.77664504 0.7905468  0.79147359 0.77643785\n",
      " 0.7690167  0.77087199 0.77829314 0.80890538 0.79128015 0.78664193\n",
      " 0.77922078 0.783859  ]\n",
      "[0.75       0.76111111 0.77222222 0.74444444 0.75555556 0.76666667\n",
      " 0.75555556 0.73333333 0.70833333 0.75833333 0.775      0.74930362\n",
      " 0.78830084 0.73537604 0.71309192 0.79108635 0.81337047 0.73537604\n",
      " 0.73816156 0.74651811]\n"
     ]
    }
   ],
   "source": [
    "from sklearn.model_selection import cross_val_score\n",
    "accuracy_train = cross_val_score(estimator=RF_model, X=X_train, y = y_train, cv=20)\n",
    "accuracy_test = cross_val_score(estimator=RF_model, X=X_test, y = y_test, cv=20)\n",
    "print(accuracy_train)\n",
    "print(accuracy_test)"
   ]
  },
  {
   "cell_type": "markdown",
   "metadata": {},
   "source": [
    "#     MODEL  AND THEIR ACCURACY\n",
    "\n",
    "#  LOGISTIC REGRESSION :- 73.8%\n",
    "\n",
    "#  DECISION TREE :- 75.9%\n",
    "\n",
    "#  RANDOM FOREST :- 78%\n",
    "\n",
    "#  XGBOOST :- 82%\n",
    "\n",
    "#  K-FOLD :- TRAINING : 80.8% , TEST : 81.33%"
   ]
  },
  {
   "cell_type": "code",
   "execution_count": null,
   "metadata": {},
   "outputs": [],
   "source": [
    "# TRAINING ACCURACY 80.8% AND TESTING ACCURACY 81.33%"
   ]
  },
  {
   "cell_type": "code",
   "execution_count": null,
   "metadata": {},
   "outputs": [],
   "source": []
  },
  {
   "cell_type": "markdown",
   "metadata": {},
   "source": [
    "# TESTING WITH SAMPLE TEST FILE"
   ]
  },
  {
   "cell_type": "code",
   "execution_count": 97,
   "metadata": {},
   "outputs": [
    {
     "data": {
      "text/html": [
       "<div>\n",
       "<style scoped>\n",
       "    .dataframe tbody tr th:only-of-type {\n",
       "        vertical-align: middle;\n",
       "    }\n",
       "\n",
       "    .dataframe tbody tr th {\n",
       "        vertical-align: top;\n",
       "    }\n",
       "\n",
       "    .dataframe thead th {\n",
       "        text-align: right;\n",
       "    }\n",
       "</style>\n",
       "<table border=\"1\" class=\"dataframe\">\n",
       "  <thead>\n",
       "    <tr style=\"text-align: right;\">\n",
       "      <th></th>\n",
       "      <th>enrollee_id</th>\n",
       "      <th>city</th>\n",
       "      <th>city_development_index</th>\n",
       "      <th>gender</th>\n",
       "      <th>relevent_experience</th>\n",
       "      <th>enrolled_university</th>\n",
       "      <th>education_level</th>\n",
       "      <th>major_discipline</th>\n",
       "      <th>experience</th>\n",
       "      <th>company_size</th>\n",
       "      <th>company_type</th>\n",
       "      <th>last_new_job</th>\n",
       "      <th>training_hours</th>\n",
       "    </tr>\n",
       "  </thead>\n",
       "  <tbody>\n",
       "    <tr>\n",
       "      <th>0</th>\n",
       "      <td>32403</td>\n",
       "      <td>city_41</td>\n",
       "      <td>0.827</td>\n",
       "      <td>Male</td>\n",
       "      <td>Has relevent experience</td>\n",
       "      <td>Full time course</td>\n",
       "      <td>Graduate</td>\n",
       "      <td>STEM</td>\n",
       "      <td>9</td>\n",
       "      <td>&lt;10</td>\n",
       "      <td>NaN</td>\n",
       "      <td>1</td>\n",
       "      <td>21</td>\n",
       "    </tr>\n",
       "    <tr>\n",
       "      <th>1</th>\n",
       "      <td>9858</td>\n",
       "      <td>city_103</td>\n",
       "      <td>0.920</td>\n",
       "      <td>Female</td>\n",
       "      <td>Has relevent experience</td>\n",
       "      <td>no_enrollment</td>\n",
       "      <td>Graduate</td>\n",
       "      <td>STEM</td>\n",
       "      <td>5</td>\n",
       "      <td>NaN</td>\n",
       "      <td>Pvt Ltd</td>\n",
       "      <td>1</td>\n",
       "      <td>98</td>\n",
       "    </tr>\n",
       "    <tr>\n",
       "      <th>2</th>\n",
       "      <td>31806</td>\n",
       "      <td>city_21</td>\n",
       "      <td>0.624</td>\n",
       "      <td>Male</td>\n",
       "      <td>No relevent experience</td>\n",
       "      <td>no_enrollment</td>\n",
       "      <td>High School</td>\n",
       "      <td>NaN</td>\n",
       "      <td>&lt;1</td>\n",
       "      <td>NaN</td>\n",
       "      <td>Pvt Ltd</td>\n",
       "      <td>never</td>\n",
       "      <td>15</td>\n",
       "    </tr>\n",
       "  </tbody>\n",
       "</table>\n",
       "</div>"
      ],
      "text/plain": [
       "   enrollee_id      city  city_development_index  gender  \\\n",
       "0        32403   city_41                   0.827    Male   \n",
       "1         9858  city_103                   0.920  Female   \n",
       "2        31806   city_21                   0.624    Male   \n",
       "\n",
       "       relevent_experience enrolled_university education_level  \\\n",
       "0  Has relevent experience    Full time course        Graduate   \n",
       "1  Has relevent experience       no_enrollment        Graduate   \n",
       "2   No relevent experience       no_enrollment     High School   \n",
       "\n",
       "  major_discipline experience company_size company_type last_new_job  \\\n",
       "0             STEM          9          <10          NaN            1   \n",
       "1             STEM          5          NaN      Pvt Ltd            1   \n",
       "2              NaN         <1          NaN      Pvt Ltd        never   \n",
       "\n",
       "   training_hours  \n",
       "0              21  \n",
       "1              98  \n",
       "2              15  "
      ]
     },
     "execution_count": 97,
     "metadata": {},
     "output_type": "execute_result"
    }
   ],
   "source": [
    "df_test = pd.read_csv('aug_test.csv')\n",
    "df_test.head(3)"
   ]
  },
  {
   "cell_type": "code",
   "execution_count": 98,
   "metadata": {},
   "outputs": [
    {
     "data": {
      "text/plain": [
       "(2129, 13)"
      ]
     },
     "execution_count": 98,
     "metadata": {},
     "output_type": "execute_result"
    }
   ],
   "source": [
    "df_test.shape"
   ]
  },
  {
   "cell_type": "code",
   "execution_count": 99,
   "metadata": {},
   "outputs": [
    {
     "data": {
      "text/plain": [
       "enrollee_id                 0\n",
       "city                        0\n",
       "city_development_index      0\n",
       "gender                    508\n",
       "relevent_experience         0\n",
       "enrolled_university        31\n",
       "education_level            52\n",
       "major_discipline          312\n",
       "experience                  5\n",
       "company_size              622\n",
       "company_type              634\n",
       "last_new_job               40\n",
       "training_hours              0\n",
       "dtype: int64"
      ]
     },
     "execution_count": 99,
     "metadata": {},
     "output_type": "execute_result"
    }
   ],
   "source": [
    "df_test.isna().sum()"
   ]
  },
  {
   "cell_type": "code",
   "execution_count": 101,
   "metadata": {},
   "outputs": [
    {
     "name": "stdout",
     "output_type": "stream",
     "text": [
      "<class 'pandas.core.frame.DataFrame'>\n",
      "RangeIndex: 2129 entries, 0 to 2128\n",
      "Data columns (total 13 columns):\n",
      " #   Column                  Non-Null Count  Dtype  \n",
      "---  ------                  --------------  -----  \n",
      " 0   enrollee_id             2129 non-null   int64  \n",
      " 1   city                    2129 non-null   object \n",
      " 2   city_development_index  2129 non-null   float64\n",
      " 3   gender                  1621 non-null   object \n",
      " 4   relevent_experience     2129 non-null   object \n",
      " 5   enrolled_university     2098 non-null   object \n",
      " 6   education_level         2077 non-null   object \n",
      " 7   major_discipline        1817 non-null   object \n",
      " 8   experience              2124 non-null   object \n",
      " 9   company_size            1507 non-null   object \n",
      " 10  company_type            1495 non-null   object \n",
      " 11  last_new_job            2089 non-null   object \n",
      " 12  training_hours          2129 non-null   int64  \n",
      "dtypes: float64(1), int64(2), object(10)\n",
      "memory usage: 216.4+ KB\n"
     ]
    }
   ],
   "source": [
    "df_test.info()"
   ]
  },
  {
   "cell_type": "code",
   "execution_count": 105,
   "metadata": {},
   "outputs": [],
   "source": [
    "df_test.drop(df_test.columns[[0, 1, 9, 10]], axis = 1, inplace = True)"
   ]
  },
  {
   "cell_type": "code",
   "execution_count": 106,
   "metadata": {},
   "outputs": [
    {
     "name": "stdout",
     "output_type": "stream",
     "text": [
      "<class 'pandas.core.frame.DataFrame'>\n",
      "RangeIndex: 2129 entries, 0 to 2128\n",
      "Data columns (total 9 columns):\n",
      " #   Column                  Non-Null Count  Dtype  \n",
      "---  ------                  --------------  -----  \n",
      " 0   city_development_index  2129 non-null   float64\n",
      " 1   gender                  1621 non-null   object \n",
      " 2   relevent_experience     2129 non-null   object \n",
      " 3   enrolled_university     2098 non-null   object \n",
      " 4   education_level         2077 non-null   object \n",
      " 5   major_discipline        1817 non-null   object \n",
      " 6   experience              2124 non-null   object \n",
      " 7   last_new_job            2089 non-null   object \n",
      " 8   training_hours          2129 non-null   int64  \n",
      "dtypes: float64(1), int64(1), object(7)\n",
      "memory usage: 149.8+ KB\n"
     ]
    }
   ],
   "source": [
    "df_test.info()"
   ]
  },
  {
   "cell_type": "code",
   "execution_count": 107,
   "metadata": {},
   "outputs": [
    {
     "name": "stdout",
     "output_type": "stream",
     "text": [
      "Gender              :  ['Male' 'Female' nan 'Other']\n",
      "relevent_experience :  ['Has relevent experience' 'No relevent experience']\n",
      "enrolled_university :  ['Full time course' 'no_enrollment' 'Part time course' nan]\n",
      "education_level     :  ['Graduate' 'High School' 'Masters' nan 'Phd' 'Primary School']\n",
      "major_discipline    :  ['STEM' nan 'Other' 'Business Degree' 'Arts' 'Humanities' 'No Major']\n",
      "experience          :  ['9' '5' '<1' '11' '>20' '10' '14' '3' '20' '8' '4' '13' '2' '6' '7' '1'\n",
      " '19' '15' '16' nan '17' '18' '12']\n",
      "last_new_job        :  ['1' 'never' '>4' '2' '4' '3' nan]\n"
     ]
    }
   ],
   "source": [
    "print(\"Gender              : \",df_test.gender.unique())\n",
    "print(\"relevent_experience : \",df_test.relevent_experience.unique())\n",
    "print(\"enrolled_university : \",df_test.enrolled_university.unique())\n",
    "print(\"education_level     : \",df_test.education_level.unique())\n",
    "print(\"major_discipline    : \",df_test.major_discipline.unique())\n",
    "print(\"experience          : \",df_test.experience.unique())\n",
    "print(\"last_new_job        : \",df_test.last_new_job.unique())"
   ]
  },
  {
   "cell_type": "code",
   "execution_count": 111,
   "metadata": {},
   "outputs": [
    {
     "name": "stdout",
     "output_type": "stream",
     "text": [
      "['Male' 'Female' 'Other']\n",
      "####################################\n",
      "Male      1968\n",
      "Female     137\n",
      "Other       24\n",
      "Name: gender, dtype: int64\n",
      "####################################\n",
      "Gender missing values : 0\n",
      "['Male' 'Female' 'Other']\n",
      "####################################\n",
      "Male      1968\n",
      "Female     137\n",
      "Other       24\n",
      "Name: gender, dtype: int64\n",
      "####################################\n",
      "Gender missing values : 0\n",
      "['Full time course' 'no_enrollment' 'Part time course']\n",
      "####################################\n",
      "no_enrollment       1550\n",
      "Full time course     435\n",
      "Part time course     144\n",
      "Name: enrolled_university, dtype: int64\n",
      "####################################\n",
      "Gender missing values : 0\n",
      "['Full time course' 'no_enrollment' 'Part time course']\n",
      "####################################\n",
      "no_enrollment       1550\n",
      "Full time course     435\n",
      "Part time course     144\n",
      "Name: enrolled_university, dtype: int64\n",
      "####################################\n",
      "Gender missing values : 0\n",
      "['Graduate' 'High School' 'Masters' 'Phd' 'Primary School']\n",
      "####################################\n",
      "Graduate          1321\n",
      "Masters            496\n",
      "High School        222\n",
      "Phd                 54\n",
      "Primary School      36\n",
      "Name: education_level, dtype: int64\n",
      "####################################\n",
      "Gender missing values : 0\n",
      "['Graduate' 'High School' 'Masters' 'Phd' 'Primary School']\n",
      "####################################\n",
      "Graduate          1321\n",
      "Masters            496\n",
      "High School        222\n",
      "Phd                 54\n",
      "Primary School      36\n",
      "Name: education_level, dtype: int64\n",
      "####################################\n",
      "Gender missing values : 0\n",
      "['STEM' 'Other' 'Business Degree' 'Arts' 'Humanities' 'No Major']\n",
      "####################################\n",
      "STEM               1933\n",
      "Humanities           80\n",
      "Other                40\n",
      "Business Degree      37\n",
      "No Major             22\n",
      "Arts                 17\n",
      "Name: major_discipline, dtype: int64\n",
      "####################################\n",
      "Gender missing values : 0\n",
      "['STEM' 'Other' 'Business Degree' 'Arts' 'Humanities' 'No Major']\n",
      "####################################\n",
      "STEM               1933\n",
      "Humanities           80\n",
      "Other                40\n",
      "Business Degree      37\n",
      "No Major             22\n",
      "Arts                 17\n",
      "Name: major_discipline, dtype: int64\n",
      "####################################\n",
      "Gender missing values : 0\n",
      "['9' '5' '<1' '11' '>20' '10' '14' '3' '20' '8' '4' '13' '2' '6' '7' '1'\n",
      " '19' '15' '16' nan '17' '18' '12']\n",
      "####################################\n",
      ">20    383\n",
      "5      163\n",
      "3      154\n",
      "4      145\n",
      "6      130\n",
      "2      128\n",
      "7      116\n",
      "9      113\n",
      "10      96\n",
      "11      86\n",
      "8       82\n",
      "<1      74\n",
      "16      68\n",
      "15      59\n",
      "1       56\n",
      "14      55\n",
      "13      54\n",
      "12      52\n",
      "17      36\n",
      "19      29\n",
      "18      26\n",
      "20      19\n",
      "Name: experience, dtype: int64\n",
      "####################################\n",
      "Gender missing values : 5\n",
      "['9' '5' '<1' '11' '>20' '10' '14' '3' '20' '8' '4' '13' '2' '6' '7' '1'\n",
      " '19' '15' '16' '17' '18' '12']\n",
      "####################################\n",
      ">20    388\n",
      "5      163\n",
      "3      154\n",
      "4      145\n",
      "6      130\n",
      "2      128\n",
      "7      116\n",
      "9      113\n",
      "10      96\n",
      "11      86\n",
      "8       82\n",
      "<1      74\n",
      "16      68\n",
      "15      59\n",
      "1       56\n",
      "14      55\n",
      "13      54\n",
      "12      52\n",
      "17      36\n",
      "19      29\n",
      "18      26\n",
      "20      19\n",
      "Name: experience, dtype: int64\n",
      "####################################\n",
      "Gender missing values : 0\n",
      "['1' 'never' '>4' '2' '4' '3' nan]\n",
      "####################################\n",
      "1        884\n",
      ">4       353\n",
      "2        342\n",
      "never    258\n",
      "3        133\n",
      "4        119\n",
      "Name: last_new_job, dtype: int64\n",
      "####################################\n",
      "Gender missing values : 40\n",
      "['1' 'never' '>4' '2' '4' '3']\n",
      "####################################\n",
      "1        924\n",
      ">4       353\n",
      "2        342\n",
      "never    258\n",
      "3        133\n",
      "4        119\n",
      "Name: last_new_job, dtype: int64\n",
      "####################################\n",
      "Gender missing values : 0\n"
     ]
    }
   ],
   "source": [
    "print(df_test.gender.unique())\n",
    "print(\"####################################\")\n",
    "print(df_test.gender.value_counts())\n",
    "print(\"####################################\")\n",
    "print(\"Gender missing values :\",df_test.gender.isna().sum())\n",
    "df_test['gender'].fillna(\"Male\",inplace = True)\n",
    "print(df_test.gender.unique())\n",
    "print(\"####################################\")\n",
    "print(df_test.gender.value_counts())\n",
    "print(\"####################################\")\n",
    "print(\"Gender missing values :\",df_test.gender.isna().sum())\n",
    "print(df_test.enrolled_university.unique())\n",
    "print(\"####################################\")\n",
    "print(df_test.enrolled_university.value_counts())\n",
    "print(\"####################################\")\n",
    "print(\"Gender missing values :\",df_test.enrolled_university.isna().sum())\n",
    "df_test['enrolled_university'].fillna(\"no_enrollment\",inplace = True)\n",
    "print(df_test.enrolled_university.unique())\n",
    "print(\"####################################\")\n",
    "print(df_test.enrolled_university.value_counts())\n",
    "print(\"####################################\")\n",
    "print(\"Gender missing values :\",df_test.enrolled_university.isna().sum())\n",
    "print(df_test.education_level.unique())\n",
    "print(\"####################################\")\n",
    "print(df_test.education_level.value_counts())\n",
    "print(\"####################################\")\n",
    "print(\"Gender missing values :\",df_test.education_level.isna().sum())\n",
    "df_test['education_level'].fillna(\"Graduate\",inplace = True)\n",
    "print(df_test.education_level.unique())\n",
    "print(\"####################################\")\n",
    "print(df_test.education_level.value_counts())\n",
    "print(\"####################################\")\n",
    "print(\"Gender missing values :\",df_test.education_level.isna().sum())\n",
    "print(df_test.major_discipline.unique())\n",
    "print(\"####################################\")\n",
    "print(df_test.major_discipline.value_counts())\n",
    "print(\"####################################\")\n",
    "print(\"Gender missing values :\",df_test.major_discipline.isna().sum())\n",
    "df_test['major_discipline'].fillna(\"STEM\",inplace = True)\n",
    "print(df_test.major_discipline.unique())\n",
    "print(\"####################################\")\n",
    "print(df_test.major_discipline.value_counts())\n",
    "print(\"####################################\")\n",
    "print(\"Gender missing values :\",df_test.major_discipline.isna().sum())\n",
    "print(df_test.experience.unique())\n",
    "print(\"####################################\")\n",
    "print(df_test.experience.value_counts())\n",
    "print(\"####################################\")\n",
    "print(\"Gender missing values :\",df_test.experience.isna().sum())\n",
    "df_test['experience'].fillna(\">20\",inplace = True)\n",
    "print(df_test.experience.unique())\n",
    "print(\"####################################\")\n",
    "print(df_test.experience.value_counts())\n",
    "print(\"####################################\")\n",
    "print(\"Gender missing values :\",df_test.experience.isna().sum())\n",
    "print(df_test.last_new_job.unique())\n",
    "print(\"####################################\")\n",
    "print(df_test.last_new_job.value_counts())\n",
    "print(\"####################################\")\n",
    "print(\"Gender missing values :\",df_test.last_new_job.isna().sum())\n",
    "df_test['last_new_job'].fillna(\"1\",inplace = True)\n",
    "print(df_test.last_new_job.unique())\n",
    "print(\"####################################\")\n",
    "print(df_test.last_new_job.value_counts())\n",
    "print(\"####################################\")\n",
    "print(\"Gender missing values :\",df.last_new_job.isna().sum())"
   ]
  },
  {
   "cell_type": "code",
   "execution_count": 113,
   "metadata": {},
   "outputs": [
    {
     "name": "stdout",
     "output_type": "stream",
     "text": [
      "Gender              :  ['Male' 'Female' 'Other']\n",
      "relevent_experience :  ['Has relevent experience' 'No relevent experience']\n",
      "enrolled_university :  ['Full time course' 'no_enrollment' 'Part time course']\n",
      "education_level     :  ['Graduate' 'High School' 'Masters' 'Phd' 'Primary School']\n",
      "major_discipline    :  ['STEM' 'Other' 'Business Degree' 'Arts' 'Humanities' 'No Major']\n",
      "experience          :  ['9' '5' '<1' '11' '>20' '10' '14' '3' '20' '8' '4' '13' '2' '6' '7' '1'\n",
      " '19' '15' '16' '17' '18' '12']\n",
      "last_new_job        :  ['1' 'never' '>4' '2' '4' '3']\n"
     ]
    }
   ],
   "source": [
    "print(\"Gender              : \",df_test.gender.unique())\n",
    "print(\"relevent_experience : \",df_test.relevent_experience.unique())\n",
    "print(\"enrolled_university : \",df_test.enrolled_university.unique())\n",
    "print(\"education_level     : \",df_test.education_level.unique())\n",
    "print(\"major_discipline    : \",df_test.major_discipline.unique())\n",
    "print(\"experience          : \",df_test.experience.unique())\n",
    "print(\"last_new_job        : \",df_test.last_new_job.unique())"
   ]
  },
  {
   "cell_type": "code",
   "execution_count": 114,
   "metadata": {},
   "outputs": [
    {
     "name": "stdout",
     "output_type": "stream",
     "text": [
      "<class 'str'>\n",
      "#########################################\n",
      "<class 'numpy.int64'>\n",
      "<class 'str'>\n",
      "#########################################\n",
      "<class 'numpy.int64'>\n"
     ]
    }
   ],
   "source": [
    "df_test['experience'] = df_test.experience.replace({'>20':21,\"<1\":0})\n",
    "\n",
    "print(type(df_test['experience'][1]))\n",
    "df_test['experience'] = df_test.experience.astype('int64')\n",
    "print(\"#########################################\")\n",
    "print(type(df_test['experience'][1]))\n",
    "\n",
    "df_test['last_new_job'] = df_test.last_new_job.replace({'>4':5,\"never\":0})\n",
    "\n",
    "print(type(df_test['last_new_job'][0]))\n",
    "df_test['last_new_job'] = df_test.last_new_job.astype('int64')\n",
    "print(\"#########################################\")\n",
    "print(type(df_test['last_new_job'][0]))"
   ]
  },
  {
   "cell_type": "code",
   "execution_count": 115,
   "metadata": {},
   "outputs": [
    {
     "name": "stdout",
     "output_type": "stream",
     "text": [
      "Gender              :  [1 0 2]\n",
      "relevent_experience :  [0 1]\n",
      "enrolled_university :  [0 2 1]\n",
      "education_level     :  [0 1 2 3 4]\n",
      "major_discipline    :  [5 4 1 0 2 3]\n",
      "experience          :  [ 9  5  0 11 21 10 14  3 20  8  4 13  2  6  7  1 19 15 16 17 18 12]\n",
      "last_new_job        :  [1 0 5 2 4 3]\n"
     ]
    }
   ],
   "source": [
    "from sklearn import preprocessing\n",
    "label_encoder = preprocessing.LabelEncoder()\n",
    " \n",
    "df_test['gender']= label_encoder.fit_transform(df_test['gender'])\n",
    "df_test['relevent_experience']= label_encoder.fit_transform(df_test['relevent_experience'])\n",
    "df_test['enrolled_university']= label_encoder.fit_transform(df_test['enrolled_university'])\n",
    "df_test['education_level']= label_encoder.fit_transform(df_test['education_level'])\n",
    "df_test['major_discipline']= label_encoder.fit_transform(df_test['major_discipline'])\n",
    "\n",
    "print(\"Gender              : \",df_test.gender.unique())\n",
    "print(\"relevent_experience : \",df_test.relevent_experience.unique())\n",
    "print(\"enrolled_university : \",df_test.enrolled_university.unique())\n",
    "print(\"education_level     : \",df_test.education_level.unique())\n",
    "print(\"major_discipline    : \",df_test.major_discipline.unique())\n",
    "print(\"experience          : \",df_test.experience.unique())\n",
    "print(\"last_new_job        : \",df_test.last_new_job.unique())"
   ]
  },
  {
   "cell_type": "code",
   "execution_count": 118,
   "metadata": {},
   "outputs": [
    {
     "name": "stdout",
     "output_type": "stream",
     "text": [
      "<class 'pandas.core.frame.DataFrame'>\n",
      "RangeIndex: 2129 entries, 0 to 2128\n",
      "Data columns (total 9 columns):\n",
      " #   Column                  Non-Null Count  Dtype  \n",
      "---  ------                  --------------  -----  \n",
      " 0   city_development_index  2129 non-null   float64\n",
      " 1   gender                  2129 non-null   int32  \n",
      " 2   relevent_experience     2129 non-null   int32  \n",
      " 3   enrolled_university     2129 non-null   int32  \n",
      " 4   education_level         2129 non-null   int32  \n",
      " 5   major_discipline        2129 non-null   int32  \n",
      " 6   experience              2129 non-null   int64  \n",
      " 7   last_new_job            2129 non-null   int64  \n",
      " 8   training_hours          2129 non-null   int64  \n",
      "dtypes: float64(1), int32(5), int64(3)\n",
      "memory usage: 108.2 KB\n"
     ]
    }
   ],
   "source": [
    "df_test.info()"
   ]
  },
  {
   "cell_type": "code",
   "execution_count": 119,
   "metadata": {},
   "outputs": [
    {
     "data": {
      "text/html": [
       "<div>\n",
       "<style scoped>\n",
       "    .dataframe tbody tr th:only-of-type {\n",
       "        vertical-align: middle;\n",
       "    }\n",
       "\n",
       "    .dataframe tbody tr th {\n",
       "        vertical-align: top;\n",
       "    }\n",
       "\n",
       "    .dataframe thead th {\n",
       "        text-align: right;\n",
       "    }\n",
       "</style>\n",
       "<table border=\"1\" class=\"dataframe\">\n",
       "  <thead>\n",
       "    <tr style=\"text-align: right;\">\n",
       "      <th></th>\n",
       "      <th>city_development_index</th>\n",
       "      <th>experience</th>\n",
       "      <th>last_new_job</th>\n",
       "      <th>training_hours</th>\n",
       "      <th>gender_0</th>\n",
       "      <th>gender_1</th>\n",
       "      <th>gender_2</th>\n",
       "      <th>relevent_experience_0</th>\n",
       "      <th>relevent_experience_1</th>\n",
       "      <th>enrolled_university_0</th>\n",
       "      <th>...</th>\n",
       "      <th>education_level_1</th>\n",
       "      <th>education_level_2</th>\n",
       "      <th>education_level_3</th>\n",
       "      <th>education_level_4</th>\n",
       "      <th>major_discipline_0</th>\n",
       "      <th>major_discipline_1</th>\n",
       "      <th>major_discipline_2</th>\n",
       "      <th>major_discipline_3</th>\n",
       "      <th>major_discipline_4</th>\n",
       "      <th>major_discipline_5</th>\n",
       "    </tr>\n",
       "  </thead>\n",
       "  <tbody>\n",
       "    <tr>\n",
       "      <th>0</th>\n",
       "      <td>0.827</td>\n",
       "      <td>9</td>\n",
       "      <td>1</td>\n",
       "      <td>21</td>\n",
       "      <td>0</td>\n",
       "      <td>1</td>\n",
       "      <td>0</td>\n",
       "      <td>1</td>\n",
       "      <td>0</td>\n",
       "      <td>1</td>\n",
       "      <td>...</td>\n",
       "      <td>0</td>\n",
       "      <td>0</td>\n",
       "      <td>0</td>\n",
       "      <td>0</td>\n",
       "      <td>0</td>\n",
       "      <td>0</td>\n",
       "      <td>0</td>\n",
       "      <td>0</td>\n",
       "      <td>0</td>\n",
       "      <td>1</td>\n",
       "    </tr>\n",
       "    <tr>\n",
       "      <th>1</th>\n",
       "      <td>0.920</td>\n",
       "      <td>5</td>\n",
       "      <td>1</td>\n",
       "      <td>98</td>\n",
       "      <td>1</td>\n",
       "      <td>0</td>\n",
       "      <td>0</td>\n",
       "      <td>1</td>\n",
       "      <td>0</td>\n",
       "      <td>0</td>\n",
       "      <td>...</td>\n",
       "      <td>0</td>\n",
       "      <td>0</td>\n",
       "      <td>0</td>\n",
       "      <td>0</td>\n",
       "      <td>0</td>\n",
       "      <td>0</td>\n",
       "      <td>0</td>\n",
       "      <td>0</td>\n",
       "      <td>0</td>\n",
       "      <td>1</td>\n",
       "    </tr>\n",
       "    <tr>\n",
       "      <th>2</th>\n",
       "      <td>0.624</td>\n",
       "      <td>0</td>\n",
       "      <td>0</td>\n",
       "      <td>15</td>\n",
       "      <td>0</td>\n",
       "      <td>1</td>\n",
       "      <td>0</td>\n",
       "      <td>0</td>\n",
       "      <td>1</td>\n",
       "      <td>0</td>\n",
       "      <td>...</td>\n",
       "      <td>1</td>\n",
       "      <td>0</td>\n",
       "      <td>0</td>\n",
       "      <td>0</td>\n",
       "      <td>0</td>\n",
       "      <td>0</td>\n",
       "      <td>0</td>\n",
       "      <td>0</td>\n",
       "      <td>0</td>\n",
       "      <td>1</td>\n",
       "    </tr>\n",
       "    <tr>\n",
       "      <th>3</th>\n",
       "      <td>0.827</td>\n",
       "      <td>11</td>\n",
       "      <td>1</td>\n",
       "      <td>39</td>\n",
       "      <td>0</td>\n",
       "      <td>1</td>\n",
       "      <td>0</td>\n",
       "      <td>1</td>\n",
       "      <td>0</td>\n",
       "      <td>0</td>\n",
       "      <td>...</td>\n",
       "      <td>0</td>\n",
       "      <td>1</td>\n",
       "      <td>0</td>\n",
       "      <td>0</td>\n",
       "      <td>0</td>\n",
       "      <td>0</td>\n",
       "      <td>0</td>\n",
       "      <td>0</td>\n",
       "      <td>0</td>\n",
       "      <td>1</td>\n",
       "    </tr>\n",
       "    <tr>\n",
       "      <th>4</th>\n",
       "      <td>0.920</td>\n",
       "      <td>21</td>\n",
       "      <td>5</td>\n",
       "      <td>72</td>\n",
       "      <td>0</td>\n",
       "      <td>1</td>\n",
       "      <td>0</td>\n",
       "      <td>1</td>\n",
       "      <td>0</td>\n",
       "      <td>0</td>\n",
       "      <td>...</td>\n",
       "      <td>0</td>\n",
       "      <td>0</td>\n",
       "      <td>0</td>\n",
       "      <td>0</td>\n",
       "      <td>0</td>\n",
       "      <td>0</td>\n",
       "      <td>0</td>\n",
       "      <td>0</td>\n",
       "      <td>0</td>\n",
       "      <td>1</td>\n",
       "    </tr>\n",
       "  </tbody>\n",
       "</table>\n",
       "<p>5 rows × 23 columns</p>\n",
       "</div>"
      ],
      "text/plain": [
       "   city_development_index  experience  last_new_job  training_hours  gender_0  \\\n",
       "0                   0.827           9             1              21         0   \n",
       "1                   0.920           5             1              98         1   \n",
       "2                   0.624           0             0              15         0   \n",
       "3                   0.827          11             1              39         0   \n",
       "4                   0.920          21             5              72         0   \n",
       "\n",
       "   gender_1  gender_2  relevent_experience_0  relevent_experience_1  \\\n",
       "0         1         0                      1                      0   \n",
       "1         0         0                      1                      0   \n",
       "2         1         0                      0                      1   \n",
       "3         1         0                      1                      0   \n",
       "4         1         0                      1                      0   \n",
       "\n",
       "   enrolled_university_0  ...  education_level_1  education_level_2  \\\n",
       "0                      1  ...                  0                  0   \n",
       "1                      0  ...                  0                  0   \n",
       "2                      0  ...                  1                  0   \n",
       "3                      0  ...                  0                  1   \n",
       "4                      0  ...                  0                  0   \n",
       "\n",
       "   education_level_3  education_level_4  major_discipline_0  \\\n",
       "0                  0                  0                   0   \n",
       "1                  0                  0                   0   \n",
       "2                  0                  0                   0   \n",
       "3                  0                  0                   0   \n",
       "4                  0                  0                   0   \n",
       "\n",
       "   major_discipline_1  major_discipline_2  major_discipline_3  \\\n",
       "0                   0                   0                   0   \n",
       "1                   0                   0                   0   \n",
       "2                   0                   0                   0   \n",
       "3                   0                   0                   0   \n",
       "4                   0                   0                   0   \n",
       "\n",
       "   major_discipline_4  major_discipline_5  \n",
       "0                   0                   1  \n",
       "1                   0                   1  \n",
       "2                   0                   1  \n",
       "3                   0                   1  \n",
       "4                   0                   1  \n",
       "\n",
       "[5 rows x 23 columns]"
      ]
     },
     "execution_count": 119,
     "metadata": {},
     "output_type": "execute_result"
    }
   ],
   "source": [
    "df_test = pd.get_dummies(df_test, columns = ['gender','relevent_experience','enrolled_university','education_level','major_discipline'])\n",
    "df_test.head()"
   ]
  },
  {
   "cell_type": "code",
   "execution_count": 121,
   "metadata": {},
   "outputs": [
    {
     "name": "stdout",
     "output_type": "stream",
     "text": [
      "<class 'pandas.core.frame.DataFrame'>\n",
      "RangeIndex: 19158 entries, 0 to 19157\n",
      "Data columns (total 15 columns):\n",
      " #   Column                 Non-Null Count  Dtype  \n",
      "---  ------                 --------------  -----  \n",
      " 0   last_new_job           19158 non-null  int64  \n",
      " 1   training_hours         19158 non-null  int64  \n",
      " 2   target                 19158 non-null  float64\n",
      " 3   gender_1               19158 non-null  uint8  \n",
      " 4   gender_2               19158 non-null  uint8  \n",
      " 5   relevent_experience_1  19158 non-null  uint8  \n",
      " 6   enrolled_university_1  19158 non-null  uint8  \n",
      " 7   education_level_2      19158 non-null  uint8  \n",
      " 8   education_level_3      19158 non-null  uint8  \n",
      " 9   education_level_4      19158 non-null  uint8  \n",
      " 10  major_discipline_1     19158 non-null  uint8  \n",
      " 11  major_discipline_2     19158 non-null  uint8  \n",
      " 12  major_discipline_3     19158 non-null  uint8  \n",
      " 13  major_discipline_4     19158 non-null  uint8  \n",
      " 14  major_discipline_5     19158 non-null  uint8  \n",
      "dtypes: float64(1), int64(2), uint8(12)\n",
      "memory usage: 673.6 KB\n"
     ]
    }
   ],
   "source": [
    "df.info()"
   ]
  },
  {
   "cell_type": "code",
   "execution_count": 126,
   "metadata": {},
   "outputs": [
    {
     "data": {
      "text/plain": [
       "0        2.0\n",
       "1        0.0\n",
       "2        0.0\n",
       "3        2.0\n",
       "4        0.0\n",
       "        ... \n",
       "19153    2.0\n",
       "19154    2.0\n",
       "19155    0.0\n",
       "19156    0.0\n",
       "19157    0.0\n",
       "Name: target, Length: 19158, dtype: float64"
      ]
     },
     "execution_count": 126,
     "metadata": {},
     "output_type": "execute_result"
    }
   ],
   "source": [
    "df_test + df['target']"
   ]
  },
  {
   "cell_type": "code",
   "execution_count": 127,
   "metadata": {},
   "outputs": [
    {
     "data": {
      "text/plain": [
       "0        1.0\n",
       "1        0.0\n",
       "2        0.0\n",
       "3        1.0\n",
       "4        0.0\n",
       "        ... \n",
       "19153    1.0\n",
       "19154    1.0\n",
       "19155    0.0\n",
       "19156    0.0\n",
       "19157    0.0\n",
       "Name: target, Length: 19158, dtype: float64"
      ]
     },
     "execution_count": 127,
     "metadata": {},
     "output_type": "execute_result"
    }
   ],
   "source": [
    "df_test"
   ]
  },
  {
   "cell_type": "code",
   "execution_count": 120,
   "metadata": {},
   "outputs": [
    {
     "ename": "TypeError",
     "evalue": "fit_resample() missing 1 required positional argument: 'y'",
     "output_type": "error",
     "traceback": [
      "\u001b[1;31m---------------------------------------------------------------------------\u001b[0m",
      "\u001b[1;31mTypeError\u001b[0m                                 Traceback (most recent call last)",
      "\u001b[1;32m<ipython-input-120-09e0b4ccd219>\u001b[0m in \u001b[0;36m<module>\u001b[1;34m\u001b[0m\n\u001b[0;32m      4\u001b[0m \u001b[0msmote\u001b[0m \u001b[1;33m=\u001b[0m \u001b[0mSMOTE\u001b[0m\u001b[1;33m(\u001b[0m\u001b[1;33m)\u001b[0m\u001b[1;33m\u001b[0m\u001b[1;33m\u001b[0m\u001b[0m\n\u001b[0;32m      5\u001b[0m \u001b[1;33m\u001b[0m\u001b[0m\n\u001b[1;32m----> 6\u001b[1;33m \u001b[0mdf_test_smote\u001b[0m\u001b[1;33m=\u001b[0m \u001b[0msmote\u001b[0m\u001b[1;33m.\u001b[0m\u001b[0mfit_resample\u001b[0m\u001b[1;33m(\u001b[0m\u001b[0mdf_test\u001b[0m\u001b[1;33m)\u001b[0m\u001b[1;33m\u001b[0m\u001b[1;33m\u001b[0m\u001b[0m\n\u001b[0m",
      "\u001b[1;31mTypeError\u001b[0m: fit_resample() missing 1 required positional argument: 'y'"
     ]
    }
   ],
   "source": [
    "from imblearn.over_sampling import SMOTE\n",
    "from collections import Counter\n",
    "\n",
    "smote = SMOTE()\n",
    "\n",
    "df_test_smote= smote.fit_resample(df_test)"
   ]
  },
  {
   "cell_type": "code",
   "execution_count": null,
   "metadata": {},
   "outputs": [],
   "source": []
  }
 ],
 "metadata": {
  "kernelspec": {
   "display_name": "Python 3",
   "language": "python",
   "name": "python3"
  },
  "language_info": {
   "codemirror_mode": {
    "name": "ipython",
    "version": 3
   },
   "file_extension": ".py",
   "mimetype": "text/x-python",
   "name": "python",
   "nbconvert_exporter": "python",
   "pygments_lexer": "ipython3",
   "version": "3.8.5"
  }
 },
 "nbformat": 4,
 "nbformat_minor": 4
}
